{
 "cells": [
  {
   "cell_type": "markdown",
   "id": "7af0efd5",
   "metadata": {},
   "source": [
    "# Data Cleaning"
   ]
  },
  {
   "cell_type": "code",
   "execution_count": 39,
   "id": "b0e5db6f",
   "metadata": {},
   "outputs": [],
   "source": [
    "import pandas as pd\n",
    "import numpy as np\n",
    "from pandas.plotting import scatter_matrix\n",
    "import matplotlib.pyplot as plt\n",
    "import seaborn as sns"
   ]
  },
  {
   "cell_type": "code",
   "execution_count": 40,
   "id": "6b8297b2",
   "metadata": {},
   "outputs": [
    {
     "name": "stdout",
     "output_type": "stream",
     "text": [
      "Requirement already satisfied: pandas-profiling in c:\\users\\678585\\appdata\\roaming\\python\\python310\\site-packages (3.4.0)\n",
      "Requirement already satisfied: jinja2<3.2,>=2.11.1 in c:\\program files\\python310\\lib\\site-packages (from pandas-profiling) (3.1.2)\n",
      "Requirement already satisfied: seaborn<0.13,>=0.10.1 in c:\\program files\\python310\\lib\\site-packages (from pandas-profiling) (0.11.2)\n",
      "Requirement already satisfied: multimethod<1.10,>=1.4 in c:\\users\\678585\\appdata\\roaming\\python\\python310\\site-packages (from pandas-profiling) (1.9)\n",
      "Requirement already satisfied: matplotlib<3.6,>=3.2 in c:\\program files\\python310\\lib\\site-packages (from pandas-profiling) (3.5.3)\n",
      "Requirement already satisfied: visions[type_image_path]==0.7.5 in c:\\users\\678585\\appdata\\roaming\\python\\python310\\site-packages (from pandas-profiling) (0.7.5)\n",
      "Requirement already satisfied: scipy<1.10,>=1.4.1 in c:\\program files\\python310\\lib\\site-packages (from pandas-profiling) (1.9.1)\n",
      "Requirement already satisfied: missingno<0.6,>=0.4.2 in c:\\users\\678585\\appdata\\roaming\\python\\python310\\site-packages (from pandas-profiling) (0.5.1)\n",
      "Requirement already satisfied: htmlmin==0.1.12 in c:\\users\\678585\\appdata\\roaming\\python\\python310\\site-packages (from pandas-profiling) (0.1.12)\n",
      "Requirement already satisfied: numpy<1.24,>=1.16.0 in c:\\program files\\python310\\lib\\site-packages (from pandas-profiling) (1.23.2)\n",
      "Requirement already satisfied: requests<2.29,>=2.24.0 in c:\\program files\\python310\\lib\\site-packages (from pandas-profiling) (2.28.1)\n",
      "Requirement already satisfied: phik<0.13,>=0.11.1 in c:\\users\\678585\\appdata\\roaming\\python\\python310\\site-packages (from pandas-profiling) (0.12.2)\n",
      "Requirement already satisfied: pydantic<1.11,>=1.8.1 in c:\\program files\\python310\\lib\\site-packages (from pandas-profiling) (1.9.2)\n",
      "Requirement already satisfied: tqdm<4.65,>=4.48.2 in c:\\program files\\python310\\lib\\site-packages (from pandas-profiling) (4.64.0)\n",
      "Requirement already satisfied: statsmodels<0.14,>=0.13.2 in c:\\users\\678585\\appdata\\roaming\\python\\python310\\site-packages (from pandas-profiling) (0.13.5)\n",
      "Requirement already satisfied: pandas!=1.4.0,<1.6,>1.1 in c:\\program files\\python310\\lib\\site-packages (from pandas-profiling) (1.4.3)\n",
      "Requirement already satisfied: PyYAML<6.1,>=5.0.0 in c:\\users\\678585\\appdata\\roaming\\python\\python310\\site-packages (from pandas-profiling) (6.0)\n",
      "Requirement already satisfied: attrs>=19.3.0 in c:\\program files\\python310\\lib\\site-packages (from visions[type_image_path]==0.7.5->pandas-profiling) (22.1.0)\n",
      "Requirement already satisfied: tangled-up-in-unicode>=0.0.4 in c:\\users\\678585\\appdata\\roaming\\python\\python310\\site-packages (from visions[type_image_path]==0.7.5->pandas-profiling) (0.2.0)\n",
      "Requirement already satisfied: networkx>=2.4 in c:\\users\\678585\\appdata\\roaming\\python\\python310\\site-packages (from visions[type_image_path]==0.7.5->pandas-profiling) (2.8.8)\n",
      "Requirement already satisfied: Pillow in c:\\program files\\python310\\lib\\site-packages (from visions[type_image_path]==0.7.5->pandas-profiling) (9.2.0)\n",
      "Requirement already satisfied: imagehash in c:\\users\\678585\\appdata\\roaming\\python\\python310\\site-packages (from visions[type_image_path]==0.7.5->pandas-profiling) (4.3.1)\n",
      "Requirement already satisfied: MarkupSafe>=2.0 in c:\\program files\\python310\\lib\\site-packages (from jinja2<3.2,>=2.11.1->pandas-profiling) (2.1.1)\n",
      "Requirement already satisfied: fonttools>=4.22.0 in c:\\program files\\python310\\lib\\site-packages (from matplotlib<3.6,>=3.2->pandas-profiling) (4.37.1)\n",
      "Requirement already satisfied: python-dateutil>=2.7 in c:\\program files\\python310\\lib\\site-packages (from matplotlib<3.6,>=3.2->pandas-profiling) (2.8.2)\n",
      "Requirement already satisfied: cycler>=0.10 in c:\\program files\\python310\\lib\\site-packages (from matplotlib<3.6,>=3.2->pandas-profiling) (0.11.0)\n",
      "Requirement already satisfied: kiwisolver>=1.0.1 in c:\\program files\\python310\\lib\\site-packages (from matplotlib<3.6,>=3.2->pandas-profiling) (1.4.4)\n",
      "Requirement already satisfied: pyparsing>=2.2.1 in c:\\program files\\python310\\lib\\site-packages (from matplotlib<3.6,>=3.2->pandas-profiling) (3.0.9)\n",
      "Requirement already satisfied: packaging>=20.0 in c:\\program files\\python310\\lib\\site-packages (from matplotlib<3.6,>=3.2->pandas-profiling) (21.3)\n",
      "Requirement already satisfied: pytz>=2020.1 in c:\\program files\\python310\\lib\\site-packages (from pandas!=1.4.0,<1.6,>1.1->pandas-profiling) (2022.2.1)\n",
      "Requirement already satisfied: joblib>=0.14.1 in c:\\program files\\python310\\lib\\site-packages (from phik<0.13,>=0.11.1->pandas-profiling) (1.1.0)\n",
      "Requirement already satisfied: typing-extensions>=3.7.4.3 in c:\\program files\\python310\\lib\\site-packages (from pydantic<1.11,>=1.8.1->pandas-profiling) (4.3.0)\n",
      "Requirement already satisfied: idna<4,>=2.5 in c:\\program files\\python310\\lib\\site-packages (from requests<2.29,>=2.24.0->pandas-profiling) (3.3)\n",
      "Requirement already satisfied: charset-normalizer<3,>=2 in c:\\program files\\python310\\lib\\site-packages (from requests<2.29,>=2.24.0->pandas-profiling) (2.1.1)\n",
      "Requirement already satisfied: urllib3<1.27,>=1.21.1 in c:\\program files\\python310\\lib\\site-packages (from requests<2.29,>=2.24.0->pandas-profiling) (1.26.12)\n",
      "Requirement already satisfied: certifi>=2017.4.17 in c:\\program files\\python310\\lib\\site-packages (from requests<2.29,>=2.24.0->pandas-profiling) (2022.6.15)\n",
      "Requirement already satisfied: patsy>=0.5.2 in c:\\users\\678585\\appdata\\roaming\\python\\python310\\site-packages (from statsmodels<0.14,>=0.13.2->pandas-profiling) (0.5.3)\n",
      "Requirement already satisfied: colorama in c:\\program files\\python310\\lib\\site-packages (from tqdm<4.65,>=4.48.2->pandas-profiling) (0.4.5)\n",
      "Requirement already satisfied: six in c:\\program files\\python310\\lib\\site-packages (from patsy>=0.5.2->statsmodels<0.14,>=0.13.2->pandas-profiling) (1.16.0)\n",
      "Requirement already satisfied: PyWavelets in c:\\users\\678585\\appdata\\roaming\\python\\python310\\site-packages (from imagehash->visions[type_image_path]==0.7.5->pandas-profiling) (1.4.1)\n",
      "Note: you may need to restart the kernel to use updated packages.\n"
     ]
    }
   ],
   "source": [
    "pip install -U pandas-profiling --user"
   ]
  },
  {
   "cell_type": "code",
   "execution_count": 41,
   "id": "e0d9bbdf",
   "metadata": {},
   "outputs": [
    {
     "name": "stderr",
     "output_type": "stream",
     "text": [
      "'C:\\Program' is not recognized as an internal or external command,\n",
      "operable program or batch file.\n",
      "Enabling notebook extension jupyter-js-widgets/extension...\n",
      "      - Validating: ok\n"
     ]
    }
   ],
   "source": [
    "import sys\n",
    "!{sys.executable} -m pip install -U pandas-profiling[notebook]\n",
    "!jupyter nbextension enable --py widgetsnbextension"
   ]
  },
  {
   "cell_type": "code",
   "execution_count": 42,
   "id": "ea72344a",
   "metadata": {},
   "outputs": [
    {
     "name": "stdout",
     "output_type": "stream",
     "text": [
      "Defaulting to user installation because normal site-packages is not writeable\n",
      "Requirement already satisfied: pip in c:\\users\\678585\\appdata\\roaming\\python\\python310\\site-packages (22.3.1)\n",
      "Note: you may need to restart the kernel to use updated packages.\n"
     ]
    }
   ],
   "source": [
    "pip install --upgrade pip"
   ]
  },
  {
   "cell_type": "code",
   "execution_count": 43,
   "id": "b7301930",
   "metadata": {},
   "outputs": [
    {
     "ename": "ModuleNotFoundError",
     "evalue": "No module named 'pandas_profiling'",
     "output_type": "error",
     "traceback": [
      "\u001b[1;31m---------------------------------------------------------------------------\u001b[0m",
      "\u001b[1;31mModuleNotFoundError\u001b[0m                       Traceback (most recent call last)",
      "Input \u001b[1;32mIn [43]\u001b[0m, in \u001b[0;36m<cell line: 1>\u001b[1;34m()\u001b[0m\n\u001b[1;32m----> 1\u001b[0m \u001b[38;5;28;01mfrom\u001b[39;00m \u001b[38;5;21;01mpandas_profiling\u001b[39;00m \u001b[38;5;28;01mimport\u001b[39;00m ProfileReport\n",
      "\u001b[1;31mModuleNotFoundError\u001b[0m: No module named 'pandas_profiling'"
     ]
    }
   ],
   "source": [
    "from pandas_profiling import ProfileReport\n"
   ]
  },
  {
   "cell_type": "code",
   "execution_count": 162,
   "id": "2ac3de7b",
   "metadata": {},
   "outputs": [
    {
     "data": {
      "text/html": [
       "<div>\n",
       "<style scoped>\n",
       "    .dataframe tbody tr th:only-of-type {\n",
       "        vertical-align: middle;\n",
       "    }\n",
       "\n",
       "    .dataframe tbody tr th {\n",
       "        vertical-align: top;\n",
       "    }\n",
       "\n",
       "    .dataframe thead th {\n",
       "        text-align: right;\n",
       "    }\n",
       "</style>\n",
       "<table border=\"1\" class=\"dataframe\">\n",
       "  <thead>\n",
       "    <tr style=\"text-align: right;\">\n",
       "      <th></th>\n",
       "      <th>Unnamed: 0</th>\n",
       "      <th>House Number</th>\n",
       "      <th>Street</th>\n",
       "      <th>First Name</th>\n",
       "      <th>Surname</th>\n",
       "      <th>Age</th>\n",
       "      <th>Relationship to Head of House</th>\n",
       "      <th>Marital Status</th>\n",
       "      <th>Gender</th>\n",
       "      <th>Occupation</th>\n",
       "      <th>Infirmity</th>\n",
       "      <th>Religion</th>\n",
       "    </tr>\n",
       "  </thead>\n",
       "  <tbody>\n",
       "    <tr>\n",
       "      <th>0</th>\n",
       "      <td>0</td>\n",
       "      <td>1</td>\n",
       "      <td>Windsor Plaza</td>\n",
       "      <td>Cameron</td>\n",
       "      <td>Johnson-White</td>\n",
       "      <td>37</td>\n",
       "      <td>Head</td>\n",
       "      <td>Married</td>\n",
       "      <td>Male</td>\n",
       "      <td>Landscape architect</td>\n",
       "      <td>None</td>\n",
       "      <td>Christian</td>\n",
       "    </tr>\n",
       "    <tr>\n",
       "      <th>1</th>\n",
       "      <td>1</td>\n",
       "      <td>1</td>\n",
       "      <td>Windsor Plaza</td>\n",
       "      <td>Katherine</td>\n",
       "      <td>Johnson-White</td>\n",
       "      <td>26</td>\n",
       "      <td>Wife</td>\n",
       "      <td>Married</td>\n",
       "      <td>Female</td>\n",
       "      <td>Presenter, broadcasting</td>\n",
       "      <td>None</td>\n",
       "      <td>None</td>\n",
       "    </tr>\n",
       "    <tr>\n",
       "      <th>2</th>\n",
       "      <td>2</td>\n",
       "      <td>1</td>\n",
       "      <td>Windsor Plaza</td>\n",
       "      <td>Jack</td>\n",
       "      <td>Cook</td>\n",
       "      <td>41</td>\n",
       "      <td>Lodger</td>\n",
       "      <td>Divorced</td>\n",
       "      <td>Male</td>\n",
       "      <td>Risk manager</td>\n",
       "      <td>None</td>\n",
       "      <td>Methodist</td>\n",
       "    </tr>\n",
       "  </tbody>\n",
       "</table>\n",
       "</div>"
      ],
      "text/plain": [
       "   Unnamed: 0 House Number         Street First Name        Surname Age  \\\n",
       "0           0            1  Windsor Plaza    Cameron  Johnson-White  37   \n",
       "1           1            1  Windsor Plaza  Katherine  Johnson-White  26   \n",
       "2           2            1  Windsor Plaza       Jack           Cook  41   \n",
       "\n",
       "  Relationship to Head of House Marital Status  Gender  \\\n",
       "0                          Head        Married    Male   \n",
       "1                          Wife        Married  Female   \n",
       "2                        Lodger       Divorced    Male   \n",
       "\n",
       "                Occupation Infirmity   Religion  \n",
       "0      Landscape architect      None  Christian  \n",
       "1  Presenter, broadcasting      None       None  \n",
       "2             Risk manager      None  Methodist  "
      ]
     },
     "execution_count": 162,
     "metadata": {},
     "output_type": "execute_result"
    }
   ],
   "source": [
    "lg_census = pd.read_csv('census_16_2022.csv')\n",
    "lg_census_copy = pd.read_csv('census_16_2022.csv')  #to have a copy of the original file\n",
    "lg_census[:3]"
   ]
  },
  {
   "cell_type": "code",
   "execution_count": 147,
   "id": "bab8a8d4",
   "metadata": {},
   "outputs": [
    {
     "data": {
      "text/plain": [
       "Unnamed: 0                       8175\n",
       "House Number                     8175\n",
       "Street                           8175\n",
       "First Name                       8175\n",
       "Surname                          8175\n",
       "Age                              8175\n",
       "Relationship to Head of House    8175\n",
       "Marital Status                   6351\n",
       "Gender                           8175\n",
       "Occupation                       8175\n",
       "Infirmity                        8175\n",
       "Religion                         6314\n",
       "dtype: int64"
      ]
     },
     "execution_count": 147,
     "metadata": {},
     "output_type": "execute_result"
    }
   ],
   "source": [
    "lg_census.count()"
   ]
  },
  {
   "cell_type": "code",
   "execution_count": null,
   "id": "4652306e",
   "metadata": {},
   "outputs": [],
   "source": []
  },
  {
   "cell_type": "code",
   "execution_count": null,
   "id": "f67fe782",
   "metadata": {},
   "outputs": [],
   "source": [
    "lg_census.profile_report()"
   ]
  },
  {
   "cell_type": "code",
   "execution_count": 148,
   "id": "4283982a",
   "metadata": {},
   "outputs": [
    {
     "data": {
      "text/html": [
       "<div>\n",
       "<style scoped>\n",
       "    .dataframe tbody tr th:only-of-type {\n",
       "        vertical-align: middle;\n",
       "    }\n",
       "\n",
       "    .dataframe tbody tr th {\n",
       "        vertical-align: top;\n",
       "    }\n",
       "\n",
       "    .dataframe thead th {\n",
       "        text-align: right;\n",
       "    }\n",
       "</style>\n",
       "<table border=\"1\" class=\"dataframe\">\n",
       "  <thead>\n",
       "    <tr style=\"text-align: right;\">\n",
       "      <th></th>\n",
       "      <th>Unnamed: 0</th>\n",
       "      <th>House Number</th>\n",
       "      <th>Street</th>\n",
       "      <th>First Name</th>\n",
       "      <th>Surname</th>\n",
       "      <th>Age</th>\n",
       "      <th>Relationship to Head of House</th>\n",
       "      <th>Marital Status</th>\n",
       "      <th>Gender</th>\n",
       "      <th>Occupation</th>\n",
       "      <th>Infirmity</th>\n",
       "      <th>Religion</th>\n",
       "    </tr>\n",
       "  </thead>\n",
       "  <tbody>\n",
       "    <tr>\n",
       "      <th>0</th>\n",
       "      <td>0</td>\n",
       "      <td>1</td>\n",
       "      <td>Windsor Plaza</td>\n",
       "      <td>Cameron</td>\n",
       "      <td>Johnson-White</td>\n",
       "      <td>37</td>\n",
       "      <td>Head</td>\n",
       "      <td>Married</td>\n",
       "      <td>Male</td>\n",
       "      <td>Landscape architect</td>\n",
       "      <td>None</td>\n",
       "      <td>Christian</td>\n",
       "    </tr>\n",
       "    <tr>\n",
       "      <th>1</th>\n",
       "      <td>1</td>\n",
       "      <td>1</td>\n",
       "      <td>Windsor Plaza</td>\n",
       "      <td>Katherine</td>\n",
       "      <td>Johnson-White</td>\n",
       "      <td>26</td>\n",
       "      <td>Wife</td>\n",
       "      <td>Married</td>\n",
       "      <td>Female</td>\n",
       "      <td>Presenter, broadcasting</td>\n",
       "      <td>None</td>\n",
       "      <td>None</td>\n",
       "    </tr>\n",
       "    <tr>\n",
       "      <th>2</th>\n",
       "      <td>2</td>\n",
       "      <td>1</td>\n",
       "      <td>Windsor Plaza</td>\n",
       "      <td>Jack</td>\n",
       "      <td>Cook</td>\n",
       "      <td>41</td>\n",
       "      <td>Lodger</td>\n",
       "      <td>Divorced</td>\n",
       "      <td>Male</td>\n",
       "      <td>Risk manager</td>\n",
       "      <td>None</td>\n",
       "      <td>Methodist</td>\n",
       "    </tr>\n",
       "    <tr>\n",
       "      <th>3</th>\n",
       "      <td>3</td>\n",
       "      <td>2</td>\n",
       "      <td>Windsor Plaza</td>\n",
       "      <td>Marie</td>\n",
       "      <td>Allen</td>\n",
       "      <td>44</td>\n",
       "      <td>Head</td>\n",
       "      <td>Single</td>\n",
       "      <td>Female</td>\n",
       "      <td>Midwife</td>\n",
       "      <td>None</td>\n",
       "      <td>Catholic</td>\n",
       "    </tr>\n",
       "    <tr>\n",
       "      <th>4</th>\n",
       "      <td>4</td>\n",
       "      <td>3</td>\n",
       "      <td>Windsor Plaza</td>\n",
       "      <td>Janice</td>\n",
       "      <td>Harrison</td>\n",
       "      <td>55</td>\n",
       "      <td>Head</td>\n",
       "      <td>Single</td>\n",
       "      <td>Female</td>\n",
       "      <td>Warehouse manager</td>\n",
       "      <td>None</td>\n",
       "      <td>Christian</td>\n",
       "    </tr>\n",
       "  </tbody>\n",
       "</table>\n",
       "</div>"
      ],
      "text/plain": [
       "   Unnamed: 0 House Number         Street First Name        Surname Age  \\\n",
       "0           0            1  Windsor Plaza    Cameron  Johnson-White  37   \n",
       "1           1            1  Windsor Plaza  Katherine  Johnson-White  26   \n",
       "2           2            1  Windsor Plaza       Jack           Cook  41   \n",
       "3           3            2  Windsor Plaza      Marie          Allen  44   \n",
       "4           4            3  Windsor Plaza     Janice       Harrison  55   \n",
       "\n",
       "  Relationship to Head of House Marital Status  Gender  \\\n",
       "0                          Head        Married    Male   \n",
       "1                          Wife        Married  Female   \n",
       "2                        Lodger       Divorced    Male   \n",
       "3                          Head         Single  Female   \n",
       "4                          Head         Single  Female   \n",
       "\n",
       "                Occupation Infirmity   Religion  \n",
       "0      Landscape architect      None  Christian  \n",
       "1  Presenter, broadcasting      None       None  \n",
       "2             Risk manager      None  Methodist  \n",
       "3                  Midwife      None   Catholic  \n",
       "4        Warehouse manager      None  Christian  "
      ]
     },
     "execution_count": 148,
     "metadata": {},
     "output_type": "execute_result"
    }
   ],
   "source": [
    "lg_census.head()"
   ]
  },
  {
   "cell_type": "code",
   "execution_count": 149,
   "id": "4a09652d",
   "metadata": {},
   "outputs": [
    {
     "data": {
      "text/plain": [
       "Unnamed: 0                          0\n",
       "House Number                        0\n",
       "Street                              0\n",
       "First Name                          0\n",
       "Surname                             0\n",
       "Age                                 0\n",
       "Relationship to Head of House       0\n",
       "Marital Status                   1824\n",
       "Gender                              0\n",
       "Occupation                          0\n",
       "Infirmity                           0\n",
       "Religion                         1861\n",
       "dtype: int64"
      ]
     },
     "execution_count": 149,
     "metadata": {},
     "output_type": "execute_result"
    }
   ],
   "source": [
    "lg_census.isnull().sum()   #to check for headers with null values"
   ]
  },
  {
   "cell_type": "code",
   "execution_count": 150,
   "id": "1f1601ce",
   "metadata": {},
   "outputs": [
    {
     "data": {
      "text/plain": [
       "Single      2868\n",
       "Married     2311\n",
       "NaN         1824\n",
       "Divorced     751\n",
       "Widowed      410\n",
       "D              6\n",
       "S              2\n",
       "W              2\n",
       "M              1\n",
       "Name: Marital Status, dtype: int64"
      ]
     },
     "execution_count": 150,
     "metadata": {},
     "output_type": "execute_result"
    }
   ],
   "source": [
    "#cleaning Marital Status\n",
    "lg_census['Marital Status'].unique()\n",
    "lg_census['Marital Status'].value_counts(dropna=False)"
   ]
  },
  {
   "cell_type": "code",
   "execution_count": 175,
   "id": "a40f57da",
   "metadata": {},
   "outputs": [],
   "source": [
    "lg_census['Marital Status'].fillna('Single',inplace=True)\n",
    "#lg_census['Marital Status'].value_counts"
   ]
  },
  {
   "cell_type": "code",
   "execution_count": 176,
   "id": "ff8adec6",
   "metadata": {},
   "outputs": [
    {
     "data": {
      "text/plain": [
       "Single      4694\n",
       "Married     2312\n",
       "Divorced     757\n",
       "Widowed      412\n",
       "Name: Marital Status, dtype: int64"
      ]
     },
     "execution_count": 176,
     "metadata": {},
     "output_type": "execute_result"
    }
   ],
   "source": [
    "lg_census['Marital Status'].value_counts(dropna=False)"
   ]
  },
  {
   "cell_type": "code",
   "execution_count": 177,
   "id": "b804b441",
   "metadata": {},
   "outputs": [],
   "source": [
    "lg_census['Marital Status'].replace({'D':'Divorced', 'S':'Single', 'W':'Widowed', 'M':'Married'}, inplace=True)  "
   ]
  },
  {
   "cell_type": "code",
   "execution_count": 178,
   "id": "ef4b8751",
   "metadata": {},
   "outputs": [
    {
     "data": {
      "text/plain": [
       "Single      4694\n",
       "Married     2312\n",
       "Divorced     757\n",
       "Widowed      412\n",
       "Name: Marital Status, dtype: int64"
      ]
     },
     "execution_count": 178,
     "metadata": {},
     "output_type": "execute_result"
    }
   ],
   "source": [
    "lg_census['Marital Status'].value_counts(dropna=False)"
   ]
  },
  {
   "cell_type": "code",
   "execution_count": null,
   "id": "9370b334",
   "metadata": {},
   "outputs": [],
   "source": []
  },
  {
   "cell_type": "code",
   "execution_count": 155,
   "id": "db359be6",
   "metadata": {},
   "outputs": [],
   "source": [
    "lg_census= lg_census.drop('Unnamed: 0', axis=1)   #to drop the Unnamed column as it's not required\n"
   ]
  },
  {
   "cell_type": "code",
   "execution_count": 156,
   "id": "1cc45f29",
   "metadata": {},
   "outputs": [
    {
     "data": {
      "text/html": [
       "<div>\n",
       "<style scoped>\n",
       "    .dataframe tbody tr th:only-of-type {\n",
       "        vertical-align: middle;\n",
       "    }\n",
       "\n",
       "    .dataframe tbody tr th {\n",
       "        vertical-align: top;\n",
       "    }\n",
       "\n",
       "    .dataframe thead th {\n",
       "        text-align: right;\n",
       "    }\n",
       "</style>\n",
       "<table border=\"1\" class=\"dataframe\">\n",
       "  <thead>\n",
       "    <tr style=\"text-align: right;\">\n",
       "      <th></th>\n",
       "      <th>House Number</th>\n",
       "      <th>Street</th>\n",
       "      <th>First Name</th>\n",
       "      <th>Surname</th>\n",
       "      <th>Age</th>\n",
       "      <th>Relationship to Head of House</th>\n",
       "      <th>Marital Status</th>\n",
       "      <th>Gender</th>\n",
       "      <th>Occupation</th>\n",
       "      <th>Infirmity</th>\n",
       "      <th>Religion</th>\n",
       "    </tr>\n",
       "  </thead>\n",
       "  <tbody>\n",
       "    <tr>\n",
       "      <th>0</th>\n",
       "      <td>1</td>\n",
       "      <td>Windsor Plaza</td>\n",
       "      <td>Cameron</td>\n",
       "      <td>Johnson-White</td>\n",
       "      <td>37</td>\n",
       "      <td>Head</td>\n",
       "      <td>Married</td>\n",
       "      <td>Male</td>\n",
       "      <td>Landscape architect</td>\n",
       "      <td>None</td>\n",
       "      <td>Christian</td>\n",
       "    </tr>\n",
       "    <tr>\n",
       "      <th>1</th>\n",
       "      <td>1</td>\n",
       "      <td>Windsor Plaza</td>\n",
       "      <td>Katherine</td>\n",
       "      <td>Johnson-White</td>\n",
       "      <td>26</td>\n",
       "      <td>Wife</td>\n",
       "      <td>Married</td>\n",
       "      <td>Female</td>\n",
       "      <td>Presenter, broadcasting</td>\n",
       "      <td>None</td>\n",
       "      <td>None</td>\n",
       "    </tr>\n",
       "    <tr>\n",
       "      <th>2</th>\n",
       "      <td>1</td>\n",
       "      <td>Windsor Plaza</td>\n",
       "      <td>Jack</td>\n",
       "      <td>Cook</td>\n",
       "      <td>41</td>\n",
       "      <td>Lodger</td>\n",
       "      <td>Divorced</td>\n",
       "      <td>Male</td>\n",
       "      <td>Risk manager</td>\n",
       "      <td>None</td>\n",
       "      <td>Methodist</td>\n",
       "    </tr>\n",
       "    <tr>\n",
       "      <th>3</th>\n",
       "      <td>2</td>\n",
       "      <td>Windsor Plaza</td>\n",
       "      <td>Marie</td>\n",
       "      <td>Allen</td>\n",
       "      <td>44</td>\n",
       "      <td>Head</td>\n",
       "      <td>Single</td>\n",
       "      <td>Female</td>\n",
       "      <td>Midwife</td>\n",
       "      <td>None</td>\n",
       "      <td>Catholic</td>\n",
       "    </tr>\n",
       "    <tr>\n",
       "      <th>4</th>\n",
       "      <td>3</td>\n",
       "      <td>Windsor Plaza</td>\n",
       "      <td>Janice</td>\n",
       "      <td>Harrison</td>\n",
       "      <td>55</td>\n",
       "      <td>Head</td>\n",
       "      <td>Single</td>\n",
       "      <td>Female</td>\n",
       "      <td>Warehouse manager</td>\n",
       "      <td>None</td>\n",
       "      <td>Christian</td>\n",
       "    </tr>\n",
       "    <tr>\n",
       "      <th>...</th>\n",
       "      <td>...</td>\n",
       "      <td>...</td>\n",
       "      <td>...</td>\n",
       "      <td>...</td>\n",
       "      <td>...</td>\n",
       "      <td>...</td>\n",
       "      <td>...</td>\n",
       "      <td>...</td>\n",
       "      <td>...</td>\n",
       "      <td>...</td>\n",
       "      <td>...</td>\n",
       "    </tr>\n",
       "    <tr>\n",
       "      <th>8170</th>\n",
       "      <td>1</td>\n",
       "      <td>Wilson Barracks</td>\n",
       "      <td>Allan</td>\n",
       "      <td>Begum</td>\n",
       "      <td>26</td>\n",
       "      <td>Head</td>\n",
       "      <td>Single</td>\n",
       "      <td>Male</td>\n",
       "      <td>Nutritional therapist</td>\n",
       "      <td>None</td>\n",
       "      <td>Christian</td>\n",
       "    </tr>\n",
       "    <tr>\n",
       "      <th>8171</th>\n",
       "      <td>1</td>\n",
       "      <td>Wilson Barracks</td>\n",
       "      <td>Melissa</td>\n",
       "      <td>Evans</td>\n",
       "      <td>25</td>\n",
       "      <td>None</td>\n",
       "      <td>Divorced</td>\n",
       "      <td>Female</td>\n",
       "      <td>Development worker, community</td>\n",
       "      <td>None</td>\n",
       "      <td>Catholic</td>\n",
       "    </tr>\n",
       "    <tr>\n",
       "      <th>8172</th>\n",
       "      <td>1</td>\n",
       "      <td>Wilson Barracks</td>\n",
       "      <td>Carly</td>\n",
       "      <td>Patel</td>\n",
       "      <td>25</td>\n",
       "      <td>None</td>\n",
       "      <td>Single</td>\n",
       "      <td>Female</td>\n",
       "      <td>Journalist, magazine</td>\n",
       "      <td>None</td>\n",
       "      <td>Sikh</td>\n",
       "    </tr>\n",
       "    <tr>\n",
       "      <th>8173</th>\n",
       "      <td>1</td>\n",
       "      <td>Wilson Barracks</td>\n",
       "      <td>Gary</td>\n",
       "      <td>Tomlinson</td>\n",
       "      <td>26</td>\n",
       "      <td>None</td>\n",
       "      <td>Single</td>\n",
       "      <td>Male</td>\n",
       "      <td>Ophthalmologist</td>\n",
       "      <td>None</td>\n",
       "      <td>None</td>\n",
       "    </tr>\n",
       "    <tr>\n",
       "      <th>8174</th>\n",
       "      <td>1</td>\n",
       "      <td>Wilson Barracks</td>\n",
       "      <td>Joanna</td>\n",
       "      <td>Wright</td>\n",
       "      <td>36</td>\n",
       "      <td>None</td>\n",
       "      <td>Single</td>\n",
       "      <td>Female</td>\n",
       "      <td>Insurance risk surveyor</td>\n",
       "      <td>None</td>\n",
       "      <td>None</td>\n",
       "    </tr>\n",
       "  </tbody>\n",
       "</table>\n",
       "<p>8175 rows × 11 columns</p>\n",
       "</div>"
      ],
      "text/plain": [
       "     House Number           Street First Name        Surname Age  \\\n",
       "0               1    Windsor Plaza    Cameron  Johnson-White  37   \n",
       "1               1    Windsor Plaza  Katherine  Johnson-White  26   \n",
       "2               1    Windsor Plaza       Jack           Cook  41   \n",
       "3               2    Windsor Plaza      Marie          Allen  44   \n",
       "4               3    Windsor Plaza     Janice       Harrison  55   \n",
       "...           ...              ...        ...            ...  ..   \n",
       "8170            1  Wilson Barracks      Allan          Begum  26   \n",
       "8171            1  Wilson Barracks    Melissa          Evans  25   \n",
       "8172            1  Wilson Barracks      Carly          Patel  25   \n",
       "8173            1  Wilson Barracks       Gary      Tomlinson  26   \n",
       "8174            1  Wilson Barracks     Joanna         Wright  36   \n",
       "\n",
       "     Relationship to Head of House Marital Status  Gender  \\\n",
       "0                             Head        Married    Male   \n",
       "1                             Wife        Married  Female   \n",
       "2                           Lodger       Divorced    Male   \n",
       "3                             Head         Single  Female   \n",
       "4                             Head         Single  Female   \n",
       "...                            ...            ...     ...   \n",
       "8170                          Head         Single    Male   \n",
       "8171                          None       Divorced  Female   \n",
       "8172                          None         Single  Female   \n",
       "8173                          None         Single    Male   \n",
       "8174                          None         Single  Female   \n",
       "\n",
       "                         Occupation Infirmity   Religion  \n",
       "0               Landscape architect      None  Christian  \n",
       "1           Presenter, broadcasting      None       None  \n",
       "2                      Risk manager      None  Methodist  \n",
       "3                           Midwife      None   Catholic  \n",
       "4                 Warehouse manager      None  Christian  \n",
       "...                             ...       ...        ...  \n",
       "8170          Nutritional therapist      None  Christian  \n",
       "8171  Development worker, community      None   Catholic  \n",
       "8172           Journalist, magazine      None       Sikh  \n",
       "8173                Ophthalmologist      None       None  \n",
       "8174        Insurance risk surveyor      None       None  \n",
       "\n",
       "[8175 rows x 11 columns]"
      ]
     },
     "execution_count": 156,
     "metadata": {},
     "output_type": "execute_result"
    }
   ],
   "source": [
    "lg_census"
   ]
  },
  {
   "cell_type": "code",
   "execution_count": 51,
   "id": "2e594dea",
   "metadata": {},
   "outputs": [],
   "source": [
    "#lg_census.info"
   ]
  },
  {
   "cell_type": "code",
   "execution_count": 52,
   "id": "6bcada94",
   "metadata": {
    "scrolled": true
   },
   "outputs": [
    {
     "data": {
      "text/plain": [
       "None           2768\n",
       "Christian      1924\n",
       "NaN            1861\n",
       "Catholic        897\n",
       "Methodist       513\n",
       "Muslim          102\n",
       "Sikh             69\n",
       "Jewish           29\n",
       "Baptist           3\n",
       "Housekeeper       3\n",
       "Agnostic          1\n",
       "Nope              1\n",
       "                  1\n",
       "Private           1\n",
       "Quaker            1\n",
       "Buddist           1\n",
       "Name: Religion, dtype: int64"
      ]
     },
     "execution_count": 52,
     "metadata": {},
     "output_type": "execute_result"
    }
   ],
   "source": [
    "#cleaning Religion\n",
    "lg_census['Religion'].unique()\n",
    "lg_census['Religion'].value_counts(dropna=False) #to include values with Na"
   ]
  },
  {
   "cell_type": "code",
   "execution_count": 53,
   "id": "f962f5e8",
   "metadata": {},
   "outputs": [],
   "source": [
    "lg_census['Religion'].fillna('None',inplace=True)  #to replace the NaN value to None as None has the highest occuring values\n",
    "#lg_census['Religion'].value_counts"
   ]
  },
  {
   "cell_type": "code",
   "execution_count": 54,
   "id": "c9e3678e",
   "metadata": {},
   "outputs": [
    {
     "data": {
      "text/plain": [
       "None           4629\n",
       "Christian      1924\n",
       "Catholic        897\n",
       "Methodist       513\n",
       "Muslim          102\n",
       "Sikh             69\n",
       "Jewish           29\n",
       "Baptist           3\n",
       "Housekeeper       3\n",
       "Agnostic          1\n",
       "Nope              1\n",
       "                  1\n",
       "Private           1\n",
       "Quaker            1\n",
       "Buddist           1\n",
       "Name: Religion, dtype: int64"
      ]
     },
     "execution_count": 54,
     "metadata": {},
     "output_type": "execute_result"
    }
   ],
   "source": [
    "lg_census['Religion'].value_counts(dropna=False) #to confirm the NaN value is dropped"
   ]
  },
  {
   "cell_type": "code",
   "execution_count": 55,
   "id": "697c87ee",
   "metadata": {},
   "outputs": [],
   "source": [
    "lg_census.drop(lg_census[lg_census['Religion'].isin([' ','Private','Nope','Housekeeper'])].index, inplace=True)\n",
    "#to drop the unrealistic or joker entries for Religion column"
   ]
  },
  {
   "cell_type": "code",
   "execution_count": 56,
   "id": "5b94b3aa",
   "metadata": {},
   "outputs": [
    {
     "data": {
      "text/plain": [
       "None         4629\n",
       "Christian    1924\n",
       "Catholic      897\n",
       "Methodist     513\n",
       "Muslim        102\n",
       "Sikh           69\n",
       "Jewish         29\n",
       "Baptist         3\n",
       "Agnostic        1\n",
       "Quaker          1\n",
       "Buddist         1\n",
       "Name: Religion, dtype: int64"
      ]
     },
     "execution_count": 56,
     "metadata": {},
     "output_type": "execute_result"
    }
   ],
   "source": [
    "lg_census['Religion'].value_counts(dropna=False) \n",
    "#to confirm the fake values are dropped"
   ]
  },
  {
   "cell_type": "code",
   "execution_count": 57,
   "id": "5bb1e617",
   "metadata": {},
   "outputs": [
    {
     "name": "stdout",
     "output_type": "stream",
     "text": [
      "<class 'pandas.core.frame.DataFrame'>\n",
      "Int64Index: 8169 entries, 0 to 8174\n",
      "Data columns (total 12 columns):\n",
      " #   Column                         Non-Null Count  Dtype \n",
      "---  ------                         --------------  ----- \n",
      " 0   House Number                   8169 non-null   object\n",
      " 1   Street                         8169 non-null   object\n",
      " 2   First Name                     8169 non-null   object\n",
      " 3   Surname                        8169 non-null   object\n",
      " 4   Age                            8169 non-null   object\n",
      " 5   Relationship to Head of House  8169 non-null   object\n",
      " 6   Marital Status                 8169 non-null   object\n",
      " 7   Gender                         8169 non-null   object\n",
      " 8   Occupation                     8169 non-null   object\n",
      " 9   Infirmity                      8169 non-null   object\n",
      " 10  Religion                       8169 non-null   object\n",
      " 11  employment status              8169 non-null   object\n",
      "dtypes: object(12)\n",
      "memory usage: 829.7+ KB\n"
     ]
    }
   ],
   "source": [
    "lg_census.info()"
   ]
  },
  {
   "cell_type": "code",
   "execution_count": 58,
   "id": "3ce5b6c3",
   "metadata": {},
   "outputs": [],
   "source": [
    "#cleaning Age"
   ]
  },
  {
   "cell_type": "code",
   "execution_count": 163,
   "id": "df1455a5",
   "metadata": {},
   "outputs": [
    {
     "data": {
      "text/plain": [
       "8175"
      ]
     },
     "execution_count": 163,
     "metadata": {},
     "output_type": "execute_result"
    }
   ],
   "source": [
    "len(lg_census['Age'])"
   ]
  },
  {
   "cell_type": "code",
   "execution_count": 166,
   "id": "da2d520f",
   "metadata": {},
   "outputs": [
    {
     "name": "stdout",
     "output_type": "stream",
     "text": [
      "93\n"
     ]
    }
   ],
   "source": [
    "three = [age for age in lg_census['Age'] if age == '3']\n",
    "print(len(three))"
   ]
  },
  {
   "cell_type": "code",
   "execution_count": 167,
   "id": "c7a181f1",
   "metadata": {},
   "outputs": [
    {
     "data": {
      "text/plain": [
       "array(['37', '26', '41', '44', '55', '63', '36', '38', '57', '81', '79',\n",
       "       '58', '65', '43', '53', '32', '34', '9', '20', '47', '19', '21',\n",
       "       '45', '77', '68', '73', '75', '78', '54', '50', '80', '42', '66',\n",
       "       '23', '24', '70', '27', '76', '35', '29', '62', '71', '46', '30',\n",
       "       '13', '61', '8', '7', '64', '5', '4', '0', '56', '52', '17', '16',\n",
       "       '3', '14', '28', '18', '15', '51', '31', '11', '49', '60', '33',\n",
       "       '2', '1', '40', '10', '83', '48', '59', '25', '6', '39', '69',\n",
       "       '67', '22', '74', '86', '12', '84', '72', '87', '86.15361167',\n",
       "       '88', '105', '102', '91', '96', '82', '89', '98', '74.31823574',\n",
       "       '70.31823574', '94', '101', '85', '90', '103', '97', '93', '92',\n",
       "       '107', '62.87489477', '78.10140531', '80.10140531', '99', 'three',\n",
       "       '80.99563212', '87.99563212', '114', '117', '55.53517458',\n",
       "       '61.53517458', '95'], dtype=object)"
      ]
     },
     "execution_count": 167,
     "metadata": {},
     "output_type": "execute_result"
    }
   ],
   "source": [
    "lg_census['Age'].unique()"
   ]
  },
  {
   "cell_type": "code",
   "execution_count": 168,
   "id": "2a9cec78",
   "metadata": {},
   "outputs": [],
   "source": [
    "lg_census['Age'].replace({'three':'3'}, inplace=True)  #replace the word value with a figure for all data to have same type and save with inplace"
   ]
  },
  {
   "cell_type": "code",
   "execution_count": 169,
   "id": "d29747fe",
   "metadata": {},
   "outputs": [
    {
     "name": "stdout",
     "output_type": "stream",
     "text": [
      "94\n"
     ]
    }
   ],
   "source": [
    "three = [age for age in lg_census['Age'] if age == '3']\n",
    "print(len(three))"
   ]
  },
  {
   "cell_type": "code",
   "execution_count": 159,
   "id": "58c59df8",
   "metadata": {},
   "outputs": [
    {
     "data": {
      "text/plain": [
       "array(['37', '26', '41', '44', '55', '63', '36', '38', '57', '81', '79',\n",
       "       '58', '65', '43', '53', '32', '34', '9', '20', '47', '19', '21',\n",
       "       '45', '77', '68', '73', '75', '78', '54', '50', '80', '42', '66',\n",
       "       '23', '24', '70', '27', '76', '35', '29', '62', '71', '46', '30',\n",
       "       '13', '61', '8', '7', '64', '5', '4', '0', '56', '52', '17', '16',\n",
       "       '3', '14', '28', '18', '15', '51', '31', '11', '49', '60', '33',\n",
       "       '2', '1', '40', '10', '83', '48', '59', '25', '6', '39', '69',\n",
       "       '67', '22', '74', '86', '12', '84', '72', '87', '86.15361167',\n",
       "       '88', '105', '102', '91', '96', '82', '89', '98', '74.31823574',\n",
       "       '70.31823574', '94', '101', '85', '90', '103', '97', '93', '92',\n",
       "       '107', '62.87489477', '78.10140531', '80.10140531', '99',\n",
       "       '80.99563212', '87.99563212', '114', '117', '55.53517458',\n",
       "       '61.53517458', '95'], dtype=object)"
      ]
     },
     "execution_count": 159,
     "metadata": {},
     "output_type": "execute_result"
    }
   ],
   "source": [
    "lg_census['Age'].unique()  #confirm this has been done"
   ]
  },
  {
   "cell_type": "code",
   "execution_count": 160,
   "id": "00ec8c37",
   "metadata": {},
   "outputs": [
    {
     "data": {
      "text/plain": [
       "8175"
      ]
     },
     "execution_count": 160,
     "metadata": {},
     "output_type": "execute_result"
    }
   ],
   "source": [
    "len(lg_census['Age'])"
   ]
  },
  {
   "cell_type": "code",
   "execution_count": 62,
   "id": "57e60dfb",
   "metadata": {},
   "outputs": [
    {
     "data": {
      "text/plain": [
       "array([ 37.        ,  26.        ,  41.        ,  44.        ,\n",
       "        55.        ,  63.        ,  36.        ,  38.        ,\n",
       "        57.        ,  81.        ,  79.        ,  58.        ,\n",
       "        65.        ,  43.        ,  53.        ,  32.        ,\n",
       "        34.        ,   9.        ,  20.        ,  47.        ,\n",
       "        19.        ,  21.        ,  45.        ,  77.        ,\n",
       "        68.        ,  73.        ,  75.        ,  78.        ,\n",
       "        54.        ,  50.        ,  80.        ,  42.        ,\n",
       "        66.        ,  23.        ,  24.        ,  70.        ,\n",
       "        27.        ,  76.        ,  35.        ,  29.        ,\n",
       "        62.        ,  71.        ,  46.        ,  30.        ,\n",
       "        13.        ,  61.        ,   8.        ,   7.        ,\n",
       "        64.        ,   5.        ,   4.        ,   0.        ,\n",
       "        56.        ,  52.        ,  17.        ,  16.        ,\n",
       "         3.        ,  14.        ,  28.        ,  18.        ,\n",
       "        15.        ,  51.        ,  31.        ,  11.        ,\n",
       "        49.        ,  60.        ,  33.        ,   2.        ,\n",
       "         1.        ,  40.        ,  10.        ,  83.        ,\n",
       "        48.        ,  59.        ,  25.        ,   6.        ,\n",
       "        39.        ,  69.        ,  67.        ,  22.        ,\n",
       "        74.        ,  86.        ,  12.        ,  84.        ,\n",
       "        72.        ,  87.        ,  86.15361167,  88.        ,\n",
       "       105.        , 102.        ,  91.        ,  96.        ,\n",
       "        82.        ,  89.        ,  98.        ,  74.31823574,\n",
       "        70.31823574,  94.        , 101.        ,  85.        ,\n",
       "        90.        , 103.        ,  97.        ,  93.        ,\n",
       "        92.        , 107.        ,  62.87489477,  78.10140531,\n",
       "        80.10140531,  99.        ,  80.99563212,  87.99563212,\n",
       "       114.        , 117.        ,  55.53517458,  61.53517458,\n",
       "        95.        ])"
      ]
     },
     "execution_count": 62,
     "metadata": {},
     "output_type": "execute_result"
    }
   ],
   "source": [
    "lg_census['Age']=lg_census['Age'].astype(float)  \n",
    "#we can convert all age column to float then int\n",
    "\n",
    "lg_census['Age'].unique()"
   ]
  },
  {
   "cell_type": "code",
   "execution_count": 63,
   "id": "b1b19b26",
   "metadata": {},
   "outputs": [
    {
     "data": {
      "text/plain": [
       "array([ 37,  26,  41,  44,  55,  63,  36,  38,  57,  81,  79,  58,  65,\n",
       "        43,  53,  32,  34,   9,  20,  47,  19,  21,  45,  77,  68,  73,\n",
       "        75,  78,  54,  50,  80,  42,  66,  23,  24,  70,  27,  76,  35,\n",
       "        29,  62,  71,  46,  30,  13,  61,   8,   7,  64,   5,   4,   0,\n",
       "        56,  52,  17,  16,   3,  14,  28,  18,  15,  51,  31,  11,  49,\n",
       "        60,  33,   2,   1,  40,  10,  83,  48,  59,  25,   6,  39,  69,\n",
       "        67,  22,  74,  86,  12,  84,  72,  87,  88, 105, 102,  91,  96,\n",
       "        82,  89,  98,  94, 101,  85,  90, 103,  97,  93,  92, 107,  99,\n",
       "       114, 117,  95], dtype=int64)"
      ]
     },
     "execution_count": 63,
     "metadata": {},
     "output_type": "execute_result"
    }
   ],
   "source": [
    "lg_census['Age']=lg_census['Age'].apply(np.int64)   #we use np function apply(np.int) to convert a dataframe (from float) to int\n",
    "lg_census['Age'].unique()"
   ]
  },
  {
   "cell_type": "code",
   "execution_count": 64,
   "id": "487b8769",
   "metadata": {},
   "outputs": [
    {
     "data": {
      "text/plain": [
       "array([False])"
      ]
     },
     "execution_count": 64,
     "metadata": {},
     "output_type": "execute_result"
    }
   ],
   "source": [
    "(lg_census['Age'] > 120).unique()\n",
    "#according to World records, longest living person is 120 years so we check if anyone in data is above that."
   ]
  },
  {
   "cell_type": "code",
   "execution_count": 65,
   "id": "69eebfaf",
   "metadata": {},
   "outputs": [
    {
     "data": {
      "text/plain": [
       "array(['None'], dtype=object)"
      ]
     },
     "execution_count": 65,
     "metadata": {},
     "output_type": "execute_result"
    }
   ],
   "source": [
    "lg_census[lg_census['Age'] < 18]['Religion'].unique()\n",
    "#to check for religion for minors"
   ]
  },
  {
   "cell_type": "code",
   "execution_count": 66,
   "id": "c69cf5e0",
   "metadata": {},
   "outputs": [],
   "source": [
    "#cleaning House Number"
   ]
  },
  {
   "cell_type": "code",
   "execution_count": 67,
   "id": "cb080e1e",
   "metadata": {},
   "outputs": [
    {
     "data": {
      "text/plain": [
       "array(['1', '2', '3', '4', '5', '6', '7', '8', '9', '10', '11', '12',\n",
       "       '13', '14', '15', '16', '17', '18', '19', '20', '21', '22', '23',\n",
       "       '24', '25', '26', '27', '28', '29', '30', '31', '32', '33', '34',\n",
       "       '35', '36', '37', '38', '39', '40', '41', '42', '43', '44', '45',\n",
       "       '46', '47', '48', '49', '50', '51', '52', '53', '54', '55', '56',\n",
       "       '57', '58', '59', '60', '61', '62', '63', '64', '65', '66', '67',\n",
       "       '68', '69', '70', '71', '72', '73', '74', '75', '76', '77', '78',\n",
       "       '79', '80', '81', '82', '83', '84', '85', '86', '87', '88', '89',\n",
       "       '90', '91', '92', '93', '94', '95', '96', '97', '98', '99', '100',\n",
       "       '101', '102', '103', '104', '105', '106', '107', '108', '109',\n",
       "       '110', '111', '112', '113', '114', '115', '116', '117', '118',\n",
       "       '119', '120', '121', '122', '123', '124', '125', '126', '127',\n",
       "       '128', '129', '130', '131', '132', '133', '134', '135', '136',\n",
       "       '137', '138', '139', '140', '141', '142', '143', '144', '145',\n",
       "       '146', '147', '148', '149', '150', '151', '152', '153', '154',\n",
       "       '155', '156', '157', '158', '159', '160', '161', '162', '163',\n",
       "       '164', '165', '166', '167', '168', '169', '170', '171', '172',\n",
       "       '173', '174', '175', '176', '177', '178', '179', '180', '181',\n",
       "       '182', '183', '184', '185', '186', '187', '188', '189', '190',\n",
       "       '191', '192', '193', '194', '195', '196', '197', '198', '199',\n",
       "       '200', '201', '202', '203', '204', '205', '206', '207', '208',\n",
       "       '209', '210', '211', '212', 'Six', '213', '214', '215', '216',\n",
       "       '217', '218', '219', '220', '221', '222', '223', '224', '225',\n",
       "       '226', '227', '228', '229', '230', '231', '232', '233', '234',\n",
       "       '235', '236', '237', '238', '239', '240', '241', '242', '243',\n",
       "       '244', '245', '246', '247', '248', '249', '250'], dtype=object)"
      ]
     },
     "execution_count": 67,
     "metadata": {},
     "output_type": "execute_result"
    }
   ],
   "source": [
    "lg_census['House Number'].unique()"
   ]
  },
  {
   "cell_type": "code",
   "execution_count": 68,
   "id": "586be97e",
   "metadata": {},
   "outputs": [
    {
     "data": {
      "text/plain": [
       "array(['1', '2', '3', '4', '5', '6', '7', '8', '9', '10', '11', '12',\n",
       "       '13', '14', '15', '16', '17', '18', '19', '20', '21', '22', '23',\n",
       "       '24', '25', '26', '27', '28', '29', '30', '31', '32', '33', '34',\n",
       "       '35', '36', '37', '38', '39', '40', '41', '42', '43', '44', '45',\n",
       "       '46', '47', '48', '49', '50', '51', '52', '53', '54', '55', '56',\n",
       "       '57', '58', '59', '60', '61', '62', '63', '64', '65', '66', '67',\n",
       "       '68', '69', '70', '71', '72', '73', '74', '75', '76', '77', '78',\n",
       "       '79', '80', '81', '82', '83', '84', '85', '86', '87', '88', '89',\n",
       "       '90', '91', '92', '93', '94', '95', '96', '97', '98', '99', '100',\n",
       "       '101', '102', '103', '104', '105', '106', '107', '108', '109',\n",
       "       '110', '111', '112', '113', '114', '115', '116', '117', '118',\n",
       "       '119', '120', '121', '122', '123', '124', '125', '126', '127',\n",
       "       '128', '129', '130', '131', '132', '133', '134', '135', '136',\n",
       "       '137', '138', '139', '140', '141', '142', '143', '144', '145',\n",
       "       '146', '147', '148', '149', '150', '151', '152', '153', '154',\n",
       "       '155', '156', '157', '158', '159', '160', '161', '162', '163',\n",
       "       '164', '165', '166', '167', '168', '169', '170', '171', '172',\n",
       "       '173', '174', '175', '176', '177', '178', '179', '180', '181',\n",
       "       '182', '183', '184', '185', '186', '187', '188', '189', '190',\n",
       "       '191', '192', '193', '194', '195', '196', '197', '198', '199',\n",
       "       '200', '201', '202', '203', '204', '205', '206', '207', '208',\n",
       "       '209', '210', '211', '212', '213', '214', '215', '216', '217',\n",
       "       '218', '219', '220', '221', '222', '223', '224', '225', '226',\n",
       "       '227', '228', '229', '230', '231', '232', '233', '234', '235',\n",
       "       '236', '237', '238', '239', '240', '241', '242', '243', '244',\n",
       "       '245', '246', '247', '248', '249', '250'], dtype=object)"
      ]
     },
     "execution_count": 68,
     "metadata": {},
     "output_type": "execute_result"
    }
   ],
   "source": [
    "lg_census['House Number'].replace({'Six':'6'}, inplace=True)  #replacing the str six with int value 6 for column 'HouseNumber' and save with inplace\n",
    "lg_census['House Number'].unique()"
   ]
  },
  {
   "cell_type": "code",
   "execution_count": 69,
   "id": "550b6291",
   "metadata": {},
   "outputs": [
    {
     "data": {
      "text/plain": [
       "array([  1,   2,   3,   4,   5,   6,   7,   8,   9,  10,  11,  12,  13,\n",
       "        14,  15,  16,  17,  18,  19,  20,  21,  22,  23,  24,  25,  26,\n",
       "        27,  28,  29,  30,  31,  32,  33,  34,  35,  36,  37,  38,  39,\n",
       "        40,  41,  42,  43,  44,  45,  46,  47,  48,  49,  50,  51,  52,\n",
       "        53,  54,  55,  56,  57,  58,  59,  60,  61,  62,  63,  64,  65,\n",
       "        66,  67,  68,  69,  70,  71,  72,  73,  74,  75,  76,  77,  78,\n",
       "        79,  80,  81,  82,  83,  84,  85,  86,  87,  88,  89,  90,  91,\n",
       "        92,  93,  94,  95,  96,  97,  98,  99, 100, 101, 102, 103, 104,\n",
       "       105, 106, 107, 108, 109, 110, 111, 112, 113, 114, 115, 116, 117,\n",
       "       118, 119, 120, 121, 122, 123, 124, 125, 126, 127, 128, 129, 130,\n",
       "       131, 132, 133, 134, 135, 136, 137, 138, 139, 140, 141, 142, 143,\n",
       "       144, 145, 146, 147, 148, 149, 150, 151, 152, 153, 154, 155, 156,\n",
       "       157, 158, 159, 160, 161, 162, 163, 164, 165, 166, 167, 168, 169,\n",
       "       170, 171, 172, 173, 174, 175, 176, 177, 178, 179, 180, 181, 182,\n",
       "       183, 184, 185, 186, 187, 188, 189, 190, 191, 192, 193, 194, 195,\n",
       "       196, 197, 198, 199, 200, 201, 202, 203, 204, 205, 206, 207, 208,\n",
       "       209, 210, 211, 212, 213, 214, 215, 216, 217, 218, 219, 220, 221,\n",
       "       222, 223, 224, 225, 226, 227, 228, 229, 230, 231, 232, 233, 234,\n",
       "       235, 236, 237, 238, 239, 240, 241, 242, 243, 244, 245, 246, 247,\n",
       "       248, 249, 250])"
      ]
     },
     "execution_count": 69,
     "metadata": {},
     "output_type": "execute_result"
    }
   ],
   "source": [
    "lg_census['House Number']=lg_census['House Number'].astype(int) #convert column 'HouseNumber' from a str type to int type\n",
    "lg_census['House Number'].unique()"
   ]
  },
  {
   "cell_type": "code",
   "execution_count": 70,
   "id": "74897ff5",
   "metadata": {},
   "outputs": [
    {
     "name": "stdout",
     "output_type": "stream",
     "text": [
      "<class 'pandas.core.frame.DataFrame'>\n",
      "Int64Index: 8169 entries, 0 to 8174\n",
      "Data columns (total 12 columns):\n",
      " #   Column                         Non-Null Count  Dtype \n",
      "---  ------                         --------------  ----- \n",
      " 0   House Number                   8169 non-null   int32 \n",
      " 1   Street                         8169 non-null   object\n",
      " 2   First Name                     8169 non-null   object\n",
      " 3   Surname                        8169 non-null   object\n",
      " 4   Age                            8169 non-null   int64 \n",
      " 5   Relationship to Head of House  8169 non-null   object\n",
      " 6   Marital Status                 8169 non-null   object\n",
      " 7   Gender                         8169 non-null   object\n",
      " 8   Occupation                     8169 non-null   object\n",
      " 9   Infirmity                      8169 non-null   object\n",
      " 10  Religion                       8169 non-null   object\n",
      " 11  employment status              8169 non-null   object\n",
      "dtypes: int32(1), int64(1), object(10)\n",
      "memory usage: 797.8+ KB\n"
     ]
    }
   ],
   "source": [
    "lg_census.info()\n",
    "#to check for data types that need to be int"
   ]
  },
  {
   "cell_type": "code",
   "execution_count": 71,
   "id": "782d42e2",
   "metadata": {},
   "outputs": [
    {
     "data": {
      "text/plain": [
       "array(['None', 'Mental Disability', 'Unknown Infection', 'Deaf', ' ',\n",
       "       'Disabled', 'Physical Disability', 'Blind'], dtype=object)"
      ]
     },
     "execution_count": 71,
     "metadata": {},
     "output_type": "execute_result"
    }
   ],
   "source": [
    "lg_census['Infirmity'].unique()  #checking for irregularities in Infirmity"
   ]
  },
  {
   "cell_type": "code",
   "execution_count": 72,
   "id": "34d9a104",
   "metadata": {},
   "outputs": [
    {
     "data": {
      "text/plain": [
       "None                   8106\n",
       "                         14\n",
       "Deaf                     13\n",
       "Physical Disability      12\n",
       "Mental Disability         9\n",
       "Unknown Infection         7\n",
       "Disabled                  4\n",
       "Blind                     4\n",
       "Name: Infirmity, dtype: int64"
      ]
     },
     "execution_count": 72,
     "metadata": {},
     "output_type": "execute_result"
    }
   ],
   "source": [
    "lg_census['Infirmity'].value_counts()"
   ]
  },
  {
   "cell_type": "code",
   "execution_count": 73,
   "id": "73cba669",
   "metadata": {},
   "outputs": [],
   "source": [
    "lg_census['Infirmity'].replace({' ':'None'}, inplace=True) #replacing empty space in Infirmity with None value"
   ]
  },
  {
   "cell_type": "code",
   "execution_count": 74,
   "id": "df038e97",
   "metadata": {},
   "outputs": [
    {
     "data": {
      "text/plain": [
       "array(['None', 'Mental Disability', 'Unknown Infection', 'Deaf',\n",
       "       'Disabled', 'Physical Disability', 'Blind'], dtype=object)"
      ]
     },
     "execution_count": 74,
     "metadata": {},
     "output_type": "execute_result"
    }
   ],
   "source": [
    "lg_census['Infirmity'].unique()"
   ]
  },
  {
   "cell_type": "code",
   "execution_count": 75,
   "id": "903bba23",
   "metadata": {},
   "outputs": [
    {
     "data": {
      "text/plain": [
       "None                   8120\n",
       "Deaf                     13\n",
       "Physical Disability      12\n",
       "Mental Disability         9\n",
       "Unknown Infection         7\n",
       "Disabled                  4\n",
       "Blind                     4\n",
       "Name: Infirmity, dtype: int64"
      ]
     },
     "execution_count": 75,
     "metadata": {},
     "output_type": "execute_result"
    }
   ],
   "source": [
    "lg_census['Infirmity'].value_counts()"
   ]
  },
  {
   "cell_type": "code",
   "execution_count": 76,
   "id": "7d6f9332",
   "metadata": {},
   "outputs": [],
   "source": [
    "#clean Gender"
   ]
  },
  {
   "cell_type": "code",
   "execution_count": 136,
   "id": "df9019a2",
   "metadata": {},
   "outputs": [
    {
     "data": {
      "text/plain": [
       "array(['Male', 'Female'], dtype=object)"
      ]
     },
     "execution_count": 136,
     "metadata": {},
     "output_type": "execute_result"
    }
   ],
   "source": [
    "lg_census['Gender'].unique() #checking for all unique values in Gender"
   ]
  },
  {
   "cell_type": "code",
   "execution_count": 137,
   "id": "622b628f",
   "metadata": {},
   "outputs": [
    {
     "data": {
      "text/plain": [
       "array(['Male', 'Female'], dtype=object)"
      ]
     },
     "execution_count": 137,
     "metadata": {},
     "output_type": "execute_result"
    }
   ],
   "source": [
    "lg_census['Gender'].replace({'m':'Male', 'M':'Male', 'male':'Male', 'f':'Female', 'F':'Female', 'female':'Female'}, inplace=True)\n",
    "lg_census['Gender'].unique()"
   ]
  },
  {
   "cell_type": "code",
   "execution_count": 138,
   "id": "3759bea1",
   "metadata": {},
   "outputs": [
    {
     "data": {
      "text/plain": [
       "Female    4266\n",
       "Male      3901\n",
       "Name: Gender, dtype: int64"
      ]
     },
     "execution_count": 138,
     "metadata": {},
     "output_type": "execute_result"
    }
   ],
   "source": [
    "lg_census['Gender'].value_counts()"
   ]
  },
  {
   "cell_type": "code",
   "execution_count": 80,
   "id": "f14767b4",
   "metadata": {},
   "outputs": [],
   "source": [
    "#clean Occupation"
   ]
  },
  {
   "cell_type": "code",
   "execution_count": 81,
   "id": "adbb0927",
   "metadata": {},
   "outputs": [
    {
     "data": {
      "text/plain": [
       "array(['Employed', 'Retired', 'Student', 'Unemployed', 'Not Applicable'],\n",
       "      dtype=object)"
      ]
     },
     "execution_count": 81,
     "metadata": {},
     "output_type": "execute_result"
    }
   ],
   "source": [
    "lg_census['Occupation'].unique()"
   ]
  },
  {
   "cell_type": "code",
   "execution_count": 82,
   "id": "dc945014",
   "metadata": {},
   "outputs": [
    {
     "data": {
      "text/plain": [
       "Employed          4375\n",
       "Student           2064\n",
       "Retired            831\n",
       "Unemployed         511\n",
       "Not Applicable     388\n",
       "Name: Occupation, dtype: int64"
      ]
     },
     "execution_count": 82,
     "metadata": {},
     "output_type": "execute_result"
    }
   ],
   "source": [
    "lg_census['Occupation'].value_counts(dropna=False)"
   ]
  },
  {
   "cell_type": "code",
   "execution_count": 83,
   "id": "070d3861",
   "metadata": {},
   "outputs": [],
   "source": [
    "#clean Street"
   ]
  },
  {
   "cell_type": "code",
   "execution_count": 84,
   "id": "e30d8a39",
   "metadata": {},
   "outputs": [
    {
     "data": {
      "text/plain": [
       "array(['Windsor Plaza', 'Gracehawk Street', 'Fisher Ville', 'Swift Spur',\n",
       "       'Stormfold Road', 'Walsh Road', 'Carter Lane', 'Powell Dam',\n",
       "       'Gill Extensions', 'Lomondfold Avenue', 'Fornax Avenue',\n",
       "       'Hazel Bridge', 'Lavendar Street', 'Kelly Plain',\n",
       "       'Jenkins Mission', 'Sharknip Drive', 'Scepter Lane',\n",
       "       'Victoria Spur', 'Scott Drive', 'Church Knolls',\n",
       "       'Henderson Trafficway', 'Brown Way', 'Oaktree Island',\n",
       "       'Macdonald Road', 'July Tunnel', 'Harding Lane', 'Juniper Neck',\n",
       "       'Innersplit Drive', 'Hill Gardens', 'Badger Road',\n",
       "       'Campbell Mountains', 'Arch Street', 'Duck Drive',\n",
       "       'Liverpool Drive', 'Fisher Road', 'Crab Grove', 'Craig Shoal',\n",
       "       'Knight Haven', 'Miller Stravenue', 'Westminster Drive',\n",
       "       'Hawkins Manor', 'Lisburn Squares', 'Trent Trafficway',\n",
       "       'James Mill', 'Evans Road', 'Hughes Hill', 'Goldfish Lane',\n",
       "       'Exchange Avenue', 'Leicester Street', 'Hardy Row',\n",
       "       'Column Street', 'Black Plaza', 'Clearwaterjar Drive',\n",
       "       'Music Lane', 'Williams Center', 'Powell Road', 'Phillips Drive',\n",
       "       'Goldfinch Avenue', 'Drummer Road', 'Institution Overpass',\n",
       "       'King Road', 'Innerarch Avenue', 'Gregory Ports', 'England Road',\n",
       "       'Dixon Row', 'Wembley Freeway', 'Merlin Lane', 'Halfcrown Avenue',\n",
       "       'Williams Wall', 'Marigold Lane', 'Wembley Street',\n",
       "       'Hamilton Overpass', 'Upland Street', 'Belle Turnpike',\n",
       "       'Begum Manors', 'Lewis Pike', 'Testamentbond Road',\n",
       "       'Haymarket Garden', 'Hall Avenue', 'Minster Road',\n",
       "       'CherryChestnut Wells', 'Reindeertill Drive', 'Vulture Rue',\n",
       "       'Albert Road', 'Blue Road', 'Holmes Plaza', 'Glory Light',\n",
       "       'Walker Wells', 'Mahoganyhaul Drive', 'Wolverine Stronghold',\n",
       "       'Martin Longhouse', 'Thames Lodge', 'Brown Manor', 'Taylor Haven',\n",
       "       'Webb Fortress', 'Carroll Windmill', 'Tucker House', 'Upland Fort',\n",
       "       'Druid Haven', 'Taylor Folly', 'Albans Hold', 'Fleet Longhouse',\n",
       "       'Grant Bastion', 'Wilson Barracks'], dtype=object)"
      ]
     },
     "execution_count": 84,
     "metadata": {},
     "output_type": "execute_result"
    }
   ],
   "source": [
    "lg_census['Street'].unique() #checking for all unique values in Street"
   ]
  },
  {
   "cell_type": "code",
   "execution_count": 85,
   "id": "481dcb9e",
   "metadata": {},
   "outputs": [
    {
     "data": {
      "text/plain": [
       "Gregory Ports           791\n",
       "Kelly Plain             676\n",
       "Marigold Lane           409\n",
       "Begum Manors            214\n",
       "Swift Spur              199\n",
       "                       ... \n",
       "Wilson Barracks           5\n",
       "Thames Lodge              4\n",
       "Upland Fort               4\n",
       "Martin Longhouse          3\n",
       "Wolverine Stronghold      2\n",
       "Name: Street, Length: 104, dtype: int64"
      ]
     },
     "execution_count": 85,
     "metadata": {},
     "output_type": "execute_result"
    }
   ],
   "source": [
    "lg_census['Street'].value_counts()\n",
    "lg_census['Street'].value_counts(dropna=False)  "
   ]
  },
  {
   "cell_type": "code",
   "execution_count": 86,
   "id": "97ac47b5",
   "metadata": {},
   "outputs": [],
   "source": [
    "#clean Relationship to Head of house"
   ]
  },
  {
   "cell_type": "code",
   "execution_count": 87,
   "id": "0d97a915",
   "metadata": {},
   "outputs": [
    {
     "data": {
      "text/plain": [
       "array(['Head', 'Wife', 'Lodger', 'Partner', 'Husband', 'Son', 'None',\n",
       "       'Daughter', 'Granddaughter', 'Grandson', 'Nephew', 'Step-Son',\n",
       "       'Cousin', 'Sibling', 'Step-Daughter', 'Adopted Daughter',\n",
       "       'Visitor', 'Neice', 'Adopted Son', 'Adopted Grandson', ' ',\n",
       "       'Adopted Granddaughter'], dtype=object)"
      ]
     },
     "execution_count": 87,
     "metadata": {},
     "output_type": "execute_result"
    }
   ],
   "source": [
    "lg_census['Relationship to Head of House'].unique()  #checking for all unique values in 'Relationship to Head of House'"
   ]
  },
  {
   "cell_type": "code",
   "execution_count": 88,
   "id": "3d9977f8",
   "metadata": {},
   "outputs": [
    {
     "data": {
      "text/plain": [
       "Head                     3227\n",
       "Son                      1303\n",
       "Daughter                 1204\n",
       "Husband                   866\n",
       "None                      488\n",
       "Wife                      288\n",
       "Partner                   272\n",
       "Lodger                    201\n",
       "Granddaughter              93\n",
       "Grandson                   80\n",
       "Sibling                    33\n",
       "Step-Daughter              22\n",
       "Cousin                     22\n",
       "Adopted Daughter           13\n",
       "Step-Son                   13\n",
       "Visitor                    12\n",
       "Adopted Son                10\n",
       "Nephew                      9\n",
       "Neice                       9\n",
       "Adopted Grandson            2\n",
       "                            1\n",
       "Adopted Granddaughter       1\n",
       "Name: Relationship to Head of House, dtype: int64"
      ]
     },
     "execution_count": 88,
     "metadata": {},
     "output_type": "execute_result"
    }
   ],
   "source": [
    "lg_census['Relationship to Head of House'].value_counts(dropna=False)"
   ]
  },
  {
   "cell_type": "code",
   "execution_count": 89,
   "id": "d122b45d",
   "metadata": {},
   "outputs": [
    {
     "data": {
      "text/html": [
       "<div>\n",
       "<style scoped>\n",
       "    .dataframe tbody tr th:only-of-type {\n",
       "        vertical-align: middle;\n",
       "    }\n",
       "\n",
       "    .dataframe tbody tr th {\n",
       "        vertical-align: top;\n",
       "    }\n",
       "\n",
       "    .dataframe thead th {\n",
       "        text-align: right;\n",
       "    }\n",
       "</style>\n",
       "<table border=\"1\" class=\"dataframe\">\n",
       "  <thead>\n",
       "    <tr style=\"text-align: right;\">\n",
       "      <th></th>\n",
       "      <th>House Number</th>\n",
       "      <th>Street</th>\n",
       "      <th>First Name</th>\n",
       "      <th>Surname</th>\n",
       "      <th>Age</th>\n",
       "      <th>Relationship to Head of House</th>\n",
       "      <th>Marital Status</th>\n",
       "      <th>Gender</th>\n",
       "      <th>Occupation</th>\n",
       "      <th>Infirmity</th>\n",
       "      <th>Religion</th>\n",
       "      <th>employment status</th>\n",
       "    </tr>\n",
       "  </thead>\n",
       "  <tbody>\n",
       "  </tbody>\n",
       "</table>\n",
       "</div>"
      ],
      "text/plain": [
       "Empty DataFrame\n",
       "Columns: [House Number, Street, First Name, Surname, Age, Relationship to Head of House, Marital Status, Gender, Occupation, Infirmity, Religion, employment status]\n",
       "Index: []"
      ]
     },
     "execution_count": 89,
     "metadata": {},
     "output_type": "execute_result"
    }
   ],
   "source": [
    "lg_census[(lg_census['Relationship to Head of House']=='None') & (lg_census['Age'] < 18)]  #to check for Age less than 18, returns no value"
   ]
  },
  {
   "cell_type": "code",
   "execution_count": 90,
   "id": "43fa8b82",
   "metadata": {},
   "outputs": [
    {
     "data": {
      "text/html": [
       "<div>\n",
       "<style scoped>\n",
       "    .dataframe tbody tr th:only-of-type {\n",
       "        vertical-align: middle;\n",
       "    }\n",
       "\n",
       "    .dataframe tbody tr th {\n",
       "        vertical-align: top;\n",
       "    }\n",
       "\n",
       "    .dataframe thead th {\n",
       "        text-align: right;\n",
       "    }\n",
       "</style>\n",
       "<table border=\"1\" class=\"dataframe\">\n",
       "  <thead>\n",
       "    <tr style=\"text-align: right;\">\n",
       "      <th></th>\n",
       "      <th>House Number</th>\n",
       "      <th>Street</th>\n",
       "      <th>First Name</th>\n",
       "      <th>Surname</th>\n",
       "      <th>Age</th>\n",
       "      <th>Relationship to Head of House</th>\n",
       "      <th>Marital Status</th>\n",
       "      <th>Gender</th>\n",
       "      <th>Occupation</th>\n",
       "      <th>Infirmity</th>\n",
       "      <th>Religion</th>\n",
       "      <th>employment status</th>\n",
       "    </tr>\n",
       "  </thead>\n",
       "  <tbody>\n",
       "    <tr>\n",
       "      <th>20</th>\n",
       "      <td>11</td>\n",
       "      <td>Gracehawk Street</td>\n",
       "      <td>Danielle</td>\n",
       "      <td>Horton</td>\n",
       "      <td>32</td>\n",
       "      <td>None</td>\n",
       "      <td>Single</td>\n",
       "      <td>Female</td>\n",
       "      <td>Employed</td>\n",
       "      <td>None</td>\n",
       "      <td>Christian</td>\n",
       "      <td>Employed</td>\n",
       "    </tr>\n",
       "    <tr>\n",
       "      <th>23</th>\n",
       "      <td>13</td>\n",
       "      <td>Gracehawk Street</td>\n",
       "      <td>Glenn</td>\n",
       "      <td>White</td>\n",
       "      <td>21</td>\n",
       "      <td>None</td>\n",
       "      <td>Single</td>\n",
       "      <td>Male</td>\n",
       "      <td>Student</td>\n",
       "      <td>None</td>\n",
       "      <td>None</td>\n",
       "      <td>Student</td>\n",
       "    </tr>\n",
       "    <tr>\n",
       "      <th>24</th>\n",
       "      <td>13</td>\n",
       "      <td>Gracehawk Street</td>\n",
       "      <td>Victor</td>\n",
       "      <td>Lowe</td>\n",
       "      <td>20</td>\n",
       "      <td>None</td>\n",
       "      <td>Single</td>\n",
       "      <td>Male</td>\n",
       "      <td>Student</td>\n",
       "      <td>None</td>\n",
       "      <td>Methodist</td>\n",
       "      <td>Student</td>\n",
       "    </tr>\n",
       "    <tr>\n",
       "      <th>56</th>\n",
       "      <td>2</td>\n",
       "      <td>Swift Spur</td>\n",
       "      <td>Dawn</td>\n",
       "      <td>Morgan</td>\n",
       "      <td>27</td>\n",
       "      <td>None</td>\n",
       "      <td>Single</td>\n",
       "      <td>Female</td>\n",
       "      <td>Employed</td>\n",
       "      <td>None</td>\n",
       "      <td>None</td>\n",
       "      <td>Employed</td>\n",
       "    </tr>\n",
       "    <tr>\n",
       "      <th>73</th>\n",
       "      <td>7</td>\n",
       "      <td>Swift Spur</td>\n",
       "      <td>Teresa</td>\n",
       "      <td>Richards</td>\n",
       "      <td>41</td>\n",
       "      <td>None</td>\n",
       "      <td>Single</td>\n",
       "      <td>Female</td>\n",
       "      <td>Employed</td>\n",
       "      <td>None</td>\n",
       "      <td>Catholic</td>\n",
       "      <td>Employed</td>\n",
       "    </tr>\n",
       "    <tr>\n",
       "      <th>...</th>\n",
       "      <td>...</td>\n",
       "      <td>...</td>\n",
       "      <td>...</td>\n",
       "      <td>...</td>\n",
       "      <td>...</td>\n",
       "      <td>...</td>\n",
       "      <td>...</td>\n",
       "      <td>...</td>\n",
       "      <td>...</td>\n",
       "      <td>...</td>\n",
       "      <td>...</td>\n",
       "      <td>...</td>\n",
       "    </tr>\n",
       "    <tr>\n",
       "      <th>7982</th>\n",
       "      <td>46</td>\n",
       "      <td>Holmes Plaza</td>\n",
       "      <td>Shane</td>\n",
       "      <td>Brown</td>\n",
       "      <td>26</td>\n",
       "      <td>None</td>\n",
       "      <td>Single</td>\n",
       "      <td>Male</td>\n",
       "      <td>Employed</td>\n",
       "      <td>None</td>\n",
       "      <td>None</td>\n",
       "      <td>Employed</td>\n",
       "    </tr>\n",
       "    <tr>\n",
       "      <th>8171</th>\n",
       "      <td>1</td>\n",
       "      <td>Wilson Barracks</td>\n",
       "      <td>Melissa</td>\n",
       "      <td>Evans</td>\n",
       "      <td>25</td>\n",
       "      <td>None</td>\n",
       "      <td>Divorced</td>\n",
       "      <td>Female</td>\n",
       "      <td>Employed</td>\n",
       "      <td>None</td>\n",
       "      <td>Catholic</td>\n",
       "      <td>Employed</td>\n",
       "    </tr>\n",
       "    <tr>\n",
       "      <th>8172</th>\n",
       "      <td>1</td>\n",
       "      <td>Wilson Barracks</td>\n",
       "      <td>Carly</td>\n",
       "      <td>Patel</td>\n",
       "      <td>25</td>\n",
       "      <td>None</td>\n",
       "      <td>Single</td>\n",
       "      <td>Female</td>\n",
       "      <td>Employed</td>\n",
       "      <td>None</td>\n",
       "      <td>Sikh</td>\n",
       "      <td>Employed</td>\n",
       "    </tr>\n",
       "    <tr>\n",
       "      <th>8173</th>\n",
       "      <td>1</td>\n",
       "      <td>Wilson Barracks</td>\n",
       "      <td>Gary</td>\n",
       "      <td>Tomlinson</td>\n",
       "      <td>26</td>\n",
       "      <td>None</td>\n",
       "      <td>Single</td>\n",
       "      <td>Male</td>\n",
       "      <td>Employed</td>\n",
       "      <td>None</td>\n",
       "      <td>None</td>\n",
       "      <td>Employed</td>\n",
       "    </tr>\n",
       "    <tr>\n",
       "      <th>8174</th>\n",
       "      <td>1</td>\n",
       "      <td>Wilson Barracks</td>\n",
       "      <td>Joanna</td>\n",
       "      <td>Wright</td>\n",
       "      <td>36</td>\n",
       "      <td>None</td>\n",
       "      <td>Single</td>\n",
       "      <td>Female</td>\n",
       "      <td>Employed</td>\n",
       "      <td>None</td>\n",
       "      <td>None</td>\n",
       "      <td>Employed</td>\n",
       "    </tr>\n",
       "  </tbody>\n",
       "</table>\n",
       "<p>458 rows × 12 columns</p>\n",
       "</div>"
      ],
      "text/plain": [
       "      House Number            Street First Name    Surname  Age  \\\n",
       "20              11  Gracehawk Street   Danielle     Horton   32   \n",
       "23              13  Gracehawk Street      Glenn      White   21   \n",
       "24              13  Gracehawk Street     Victor       Lowe   20   \n",
       "56               2        Swift Spur       Dawn     Morgan   27   \n",
       "73               7        Swift Spur     Teresa   Richards   41   \n",
       "...            ...               ...        ...        ...  ...   \n",
       "7982            46      Holmes Plaza      Shane      Brown   26   \n",
       "8171             1   Wilson Barracks    Melissa      Evans   25   \n",
       "8172             1   Wilson Barracks      Carly      Patel   25   \n",
       "8173             1   Wilson Barracks       Gary  Tomlinson   26   \n",
       "8174             1   Wilson Barracks     Joanna     Wright   36   \n",
       "\n",
       "     Relationship to Head of House Marital Status  Gender Occupation  \\\n",
       "20                            None         Single  Female   Employed   \n",
       "23                            None         Single    Male    Student   \n",
       "24                            None         Single    Male    Student   \n",
       "56                            None         Single  Female   Employed   \n",
       "73                            None         Single  Female   Employed   \n",
       "...                            ...            ...     ...        ...   \n",
       "7982                          None         Single    Male   Employed   \n",
       "8171                          None       Divorced  Female   Employed   \n",
       "8172                          None         Single  Female   Employed   \n",
       "8173                          None         Single    Male   Employed   \n",
       "8174                          None         Single  Female   Employed   \n",
       "\n",
       "     Infirmity   Religion employment status  \n",
       "20        None  Christian          Employed  \n",
       "23        None       None           Student  \n",
       "24        None  Methodist           Student  \n",
       "56        None       None          Employed  \n",
       "73        None   Catholic          Employed  \n",
       "...        ...        ...               ...  \n",
       "7982      None       None          Employed  \n",
       "8171      None   Catholic          Employed  \n",
       "8172      None       Sikh          Employed  \n",
       "8173      None       None          Employed  \n",
       "8174      None       None          Employed  \n",
       "\n",
       "[458 rows x 12 columns]"
      ]
     },
     "execution_count": 90,
     "metadata": {},
     "output_type": "execute_result"
    }
   ],
   "source": [
    "lg_census[(lg_census['Relationship to Head of House']=='None') & (lg_census['Age'] > 18)] #checking for all Ages above 18 that are None values and can be head of house"
   ]
  },
  {
   "cell_type": "code",
   "execution_count": 91,
   "id": "c3863dac",
   "metadata": {},
   "outputs": [
    {
     "data": {
      "text/html": [
       "<div>\n",
       "<style scoped>\n",
       "    .dataframe tbody tr th:only-of-type {\n",
       "        vertical-align: middle;\n",
       "    }\n",
       "\n",
       "    .dataframe tbody tr th {\n",
       "        vertical-align: top;\n",
       "    }\n",
       "\n",
       "    .dataframe thead th {\n",
       "        text-align: right;\n",
       "    }\n",
       "</style>\n",
       "<table border=\"1\" class=\"dataframe\">\n",
       "  <thead>\n",
       "    <tr style=\"text-align: right;\">\n",
       "      <th></th>\n",
       "      <th>House Number</th>\n",
       "      <th>Street</th>\n",
       "      <th>First Name</th>\n",
       "      <th>Surname</th>\n",
       "      <th>Age</th>\n",
       "      <th>Relationship to Head of House</th>\n",
       "      <th>Marital Status</th>\n",
       "      <th>Gender</th>\n",
       "      <th>Occupation</th>\n",
       "      <th>Infirmity</th>\n",
       "      <th>Religion</th>\n",
       "      <th>employment status</th>\n",
       "    </tr>\n",
       "  </thead>\n",
       "  <tbody>\n",
       "    <tr>\n",
       "      <th>20</th>\n",
       "      <td>11</td>\n",
       "      <td>Gracehawk Street</td>\n",
       "      <td>Danielle</td>\n",
       "      <td>Horton</td>\n",
       "      <td>32</td>\n",
       "      <td>None</td>\n",
       "      <td>Single</td>\n",
       "      <td>Female</td>\n",
       "      <td>Employed</td>\n",
       "      <td>None</td>\n",
       "      <td>Christian</td>\n",
       "      <td>Employed</td>\n",
       "    </tr>\n",
       "    <tr>\n",
       "      <th>56</th>\n",
       "      <td>2</td>\n",
       "      <td>Swift Spur</td>\n",
       "      <td>Dawn</td>\n",
       "      <td>Morgan</td>\n",
       "      <td>27</td>\n",
       "      <td>None</td>\n",
       "      <td>Single</td>\n",
       "      <td>Female</td>\n",
       "      <td>Employed</td>\n",
       "      <td>None</td>\n",
       "      <td>None</td>\n",
       "      <td>Employed</td>\n",
       "    </tr>\n",
       "    <tr>\n",
       "      <th>73</th>\n",
       "      <td>7</td>\n",
       "      <td>Swift Spur</td>\n",
       "      <td>Teresa</td>\n",
       "      <td>Richards</td>\n",
       "      <td>41</td>\n",
       "      <td>None</td>\n",
       "      <td>Single</td>\n",
       "      <td>Female</td>\n",
       "      <td>Employed</td>\n",
       "      <td>None</td>\n",
       "      <td>Catholic</td>\n",
       "      <td>Employed</td>\n",
       "    </tr>\n",
       "    <tr>\n",
       "      <th>74</th>\n",
       "      <td>7</td>\n",
       "      <td>Swift Spur</td>\n",
       "      <td>Kayleigh</td>\n",
       "      <td>Johnson</td>\n",
       "      <td>62</td>\n",
       "      <td>None</td>\n",
       "      <td>Single</td>\n",
       "      <td>Female</td>\n",
       "      <td>Employed</td>\n",
       "      <td>None</td>\n",
       "      <td>Catholic</td>\n",
       "      <td>Employed</td>\n",
       "    </tr>\n",
       "    <tr>\n",
       "      <th>76</th>\n",
       "      <td>7</td>\n",
       "      <td>Swift Spur</td>\n",
       "      <td>Diane</td>\n",
       "      <td>Marshall</td>\n",
       "      <td>43</td>\n",
       "      <td>None</td>\n",
       "      <td>Single</td>\n",
       "      <td>Female</td>\n",
       "      <td>Employed</td>\n",
       "      <td>None</td>\n",
       "      <td>Methodist</td>\n",
       "      <td>Employed</td>\n",
       "    </tr>\n",
       "    <tr>\n",
       "      <th>...</th>\n",
       "      <td>...</td>\n",
       "      <td>...</td>\n",
       "      <td>...</td>\n",
       "      <td>...</td>\n",
       "      <td>...</td>\n",
       "      <td>...</td>\n",
       "      <td>...</td>\n",
       "      <td>...</td>\n",
       "      <td>...</td>\n",
       "      <td>...</td>\n",
       "      <td>...</td>\n",
       "      <td>...</td>\n",
       "    </tr>\n",
       "    <tr>\n",
       "      <th>7955</th>\n",
       "      <td>37</td>\n",
       "      <td>Holmes Plaza</td>\n",
       "      <td>Teresa</td>\n",
       "      <td>Stevenson</td>\n",
       "      <td>55</td>\n",
       "      <td>None</td>\n",
       "      <td>Single</td>\n",
       "      <td>Female</td>\n",
       "      <td>Employed</td>\n",
       "      <td>None</td>\n",
       "      <td>None</td>\n",
       "      <td>Employed</td>\n",
       "    </tr>\n",
       "    <tr>\n",
       "      <th>7981</th>\n",
       "      <td>46</td>\n",
       "      <td>Holmes Plaza</td>\n",
       "      <td>Rosie</td>\n",
       "      <td>Patel</td>\n",
       "      <td>32</td>\n",
       "      <td>None</td>\n",
       "      <td>Single</td>\n",
       "      <td>Female</td>\n",
       "      <td>Employed</td>\n",
       "      <td>None</td>\n",
       "      <td>None</td>\n",
       "      <td>Employed</td>\n",
       "    </tr>\n",
       "    <tr>\n",
       "      <th>8171</th>\n",
       "      <td>1</td>\n",
       "      <td>Wilson Barracks</td>\n",
       "      <td>Melissa</td>\n",
       "      <td>Evans</td>\n",
       "      <td>25</td>\n",
       "      <td>None</td>\n",
       "      <td>Divorced</td>\n",
       "      <td>Female</td>\n",
       "      <td>Employed</td>\n",
       "      <td>None</td>\n",
       "      <td>Catholic</td>\n",
       "      <td>Employed</td>\n",
       "    </tr>\n",
       "    <tr>\n",
       "      <th>8172</th>\n",
       "      <td>1</td>\n",
       "      <td>Wilson Barracks</td>\n",
       "      <td>Carly</td>\n",
       "      <td>Patel</td>\n",
       "      <td>25</td>\n",
       "      <td>None</td>\n",
       "      <td>Single</td>\n",
       "      <td>Female</td>\n",
       "      <td>Employed</td>\n",
       "      <td>None</td>\n",
       "      <td>Sikh</td>\n",
       "      <td>Employed</td>\n",
       "    </tr>\n",
       "    <tr>\n",
       "      <th>8174</th>\n",
       "      <td>1</td>\n",
       "      <td>Wilson Barracks</td>\n",
       "      <td>Joanna</td>\n",
       "      <td>Wright</td>\n",
       "      <td>36</td>\n",
       "      <td>None</td>\n",
       "      <td>Single</td>\n",
       "      <td>Female</td>\n",
       "      <td>Employed</td>\n",
       "      <td>None</td>\n",
       "      <td>None</td>\n",
       "      <td>Employed</td>\n",
       "    </tr>\n",
       "  </tbody>\n",
       "</table>\n",
       "<p>228 rows × 12 columns</p>\n",
       "</div>"
      ],
      "text/plain": [
       "      House Number            Street First Name    Surname  Age  \\\n",
       "20              11  Gracehawk Street   Danielle     Horton   32   \n",
       "56               2        Swift Spur       Dawn     Morgan   27   \n",
       "73               7        Swift Spur     Teresa   Richards   41   \n",
       "74               7        Swift Spur   Kayleigh    Johnson   62   \n",
       "76               7        Swift Spur      Diane   Marshall   43   \n",
       "...            ...               ...        ...        ...  ...   \n",
       "7955            37      Holmes Plaza     Teresa  Stevenson   55   \n",
       "7981            46      Holmes Plaza      Rosie      Patel   32   \n",
       "8171             1   Wilson Barracks    Melissa      Evans   25   \n",
       "8172             1   Wilson Barracks      Carly      Patel   25   \n",
       "8174             1   Wilson Barracks     Joanna     Wright   36   \n",
       "\n",
       "     Relationship to Head of House Marital Status  Gender Occupation  \\\n",
       "20                            None         Single  Female   Employed   \n",
       "56                            None         Single  Female   Employed   \n",
       "73                            None         Single  Female   Employed   \n",
       "74                            None         Single  Female   Employed   \n",
       "76                            None         Single  Female   Employed   \n",
       "...                            ...            ...     ...        ...   \n",
       "7955                          None         Single  Female   Employed   \n",
       "7981                          None         Single  Female   Employed   \n",
       "8171                          None       Divorced  Female   Employed   \n",
       "8172                          None         Single  Female   Employed   \n",
       "8174                          None         Single  Female   Employed   \n",
       "\n",
       "     Infirmity   Religion employment status  \n",
       "20        None  Christian          Employed  \n",
       "56        None       None          Employed  \n",
       "73        None   Catholic          Employed  \n",
       "74        None   Catholic          Employed  \n",
       "76        None  Methodist          Employed  \n",
       "...        ...        ...               ...  \n",
       "7955      None       None          Employed  \n",
       "7981      None       None          Employed  \n",
       "8171      None   Catholic          Employed  \n",
       "8172      None       Sikh          Employed  \n",
       "8174      None       None          Employed  \n",
       "\n",
       "[228 rows x 12 columns]"
      ]
     },
     "execution_count": 91,
     "metadata": {},
     "output_type": "execute_result"
    }
   ],
   "source": [
    "lg_census[(lg_census['Relationship to Head of House']=='None') & (lg_census['Age'] > 18) & (lg_census['Gender']== 'Female')]\n",
    "\n",
    "#to check for the condition where Age is above 18 and Gender is female"
   ]
  },
  {
   "cell_type": "code",
   "execution_count": 92,
   "id": "13e6fa74",
   "metadata": {},
   "outputs": [
    {
     "data": {
      "text/html": [
       "<div>\n",
       "<style scoped>\n",
       "    .dataframe tbody tr th:only-of-type {\n",
       "        vertical-align: middle;\n",
       "    }\n",
       "\n",
       "    .dataframe tbody tr th {\n",
       "        vertical-align: top;\n",
       "    }\n",
       "\n",
       "    .dataframe thead th {\n",
       "        text-align: right;\n",
       "    }\n",
       "</style>\n",
       "<table border=\"1\" class=\"dataframe\">\n",
       "  <thead>\n",
       "    <tr style=\"text-align: right;\">\n",
       "      <th></th>\n",
       "      <th>House Number</th>\n",
       "      <th>Street</th>\n",
       "      <th>First Name</th>\n",
       "      <th>Surname</th>\n",
       "      <th>Age</th>\n",
       "      <th>Relationship to Head of House</th>\n",
       "      <th>Marital Status</th>\n",
       "      <th>Gender</th>\n",
       "      <th>Occupation</th>\n",
       "      <th>Infirmity</th>\n",
       "      <th>Religion</th>\n",
       "      <th>employment status</th>\n",
       "    </tr>\n",
       "  </thead>\n",
       "  <tbody>\n",
       "    <tr>\n",
       "      <th>23</th>\n",
       "      <td>13</td>\n",
       "      <td>Gracehawk Street</td>\n",
       "      <td>Glenn</td>\n",
       "      <td>White</td>\n",
       "      <td>21</td>\n",
       "      <td>None</td>\n",
       "      <td>Single</td>\n",
       "      <td>Male</td>\n",
       "      <td>Student</td>\n",
       "      <td>None</td>\n",
       "      <td>None</td>\n",
       "      <td>Student</td>\n",
       "    </tr>\n",
       "    <tr>\n",
       "      <th>24</th>\n",
       "      <td>13</td>\n",
       "      <td>Gracehawk Street</td>\n",
       "      <td>Victor</td>\n",
       "      <td>Lowe</td>\n",
       "      <td>20</td>\n",
       "      <td>None</td>\n",
       "      <td>Single</td>\n",
       "      <td>Male</td>\n",
       "      <td>Student</td>\n",
       "      <td>None</td>\n",
       "      <td>Methodist</td>\n",
       "      <td>Student</td>\n",
       "    </tr>\n",
       "    <tr>\n",
       "      <th>75</th>\n",
       "      <td>7</td>\n",
       "      <td>Swift Spur</td>\n",
       "      <td>Mohammad</td>\n",
       "      <td>Reid</td>\n",
       "      <td>37</td>\n",
       "      <td>None</td>\n",
       "      <td>Single</td>\n",
       "      <td>Male</td>\n",
       "      <td>Employed</td>\n",
       "      <td>None</td>\n",
       "      <td>Christian</td>\n",
       "      <td>Employed</td>\n",
       "    </tr>\n",
       "    <tr>\n",
       "      <th>118</th>\n",
       "      <td>18</td>\n",
       "      <td>Swift Spur</td>\n",
       "      <td>Kenneth</td>\n",
       "      <td>Whitehead</td>\n",
       "      <td>41</td>\n",
       "      <td>None</td>\n",
       "      <td>Single</td>\n",
       "      <td>Male</td>\n",
       "      <td>Employed</td>\n",
       "      <td>None</td>\n",
       "      <td>None</td>\n",
       "      <td>Employed</td>\n",
       "    </tr>\n",
       "    <tr>\n",
       "      <th>141</th>\n",
       "      <td>25</td>\n",
       "      <td>Swift Spur</td>\n",
       "      <td>Mohamed</td>\n",
       "      <td>Randall</td>\n",
       "      <td>20</td>\n",
       "      <td>None</td>\n",
       "      <td>Single</td>\n",
       "      <td>Male</td>\n",
       "      <td>Student</td>\n",
       "      <td>None</td>\n",
       "      <td>None</td>\n",
       "      <td>Student</td>\n",
       "    </tr>\n",
       "    <tr>\n",
       "      <th>...</th>\n",
       "      <td>...</td>\n",
       "      <td>...</td>\n",
       "      <td>...</td>\n",
       "      <td>...</td>\n",
       "      <td>...</td>\n",
       "      <td>...</td>\n",
       "      <td>...</td>\n",
       "      <td>...</td>\n",
       "      <td>...</td>\n",
       "      <td>...</td>\n",
       "      <td>...</td>\n",
       "      <td>...</td>\n",
       "    </tr>\n",
       "    <tr>\n",
       "      <th>7974</th>\n",
       "      <td>44</td>\n",
       "      <td>Holmes Plaza</td>\n",
       "      <td>Wayne</td>\n",
       "      <td>Grant</td>\n",
       "      <td>29</td>\n",
       "      <td>None</td>\n",
       "      <td>Single</td>\n",
       "      <td>Male</td>\n",
       "      <td>Student</td>\n",
       "      <td>None</td>\n",
       "      <td>Christian</td>\n",
       "      <td>Student</td>\n",
       "    </tr>\n",
       "    <tr>\n",
       "      <th>7975</th>\n",
       "      <td>44</td>\n",
       "      <td>Holmes Plaza</td>\n",
       "      <td>Ronald</td>\n",
       "      <td>Thomas</td>\n",
       "      <td>24</td>\n",
       "      <td>None</td>\n",
       "      <td>Single</td>\n",
       "      <td>Male</td>\n",
       "      <td>Student</td>\n",
       "      <td>None</td>\n",
       "      <td>Buddist</td>\n",
       "      <td>Student</td>\n",
       "    </tr>\n",
       "    <tr>\n",
       "      <th>7976</th>\n",
       "      <td>44</td>\n",
       "      <td>Holmes Plaza</td>\n",
       "      <td>James</td>\n",
       "      <td>Taylor</td>\n",
       "      <td>20</td>\n",
       "      <td>None</td>\n",
       "      <td>Single</td>\n",
       "      <td>Male</td>\n",
       "      <td>Student</td>\n",
       "      <td>None</td>\n",
       "      <td>None</td>\n",
       "      <td>Student</td>\n",
       "    </tr>\n",
       "    <tr>\n",
       "      <th>7982</th>\n",
       "      <td>46</td>\n",
       "      <td>Holmes Plaza</td>\n",
       "      <td>Shane</td>\n",
       "      <td>Brown</td>\n",
       "      <td>26</td>\n",
       "      <td>None</td>\n",
       "      <td>Single</td>\n",
       "      <td>Male</td>\n",
       "      <td>Employed</td>\n",
       "      <td>None</td>\n",
       "      <td>None</td>\n",
       "      <td>Employed</td>\n",
       "    </tr>\n",
       "    <tr>\n",
       "      <th>8173</th>\n",
       "      <td>1</td>\n",
       "      <td>Wilson Barracks</td>\n",
       "      <td>Gary</td>\n",
       "      <td>Tomlinson</td>\n",
       "      <td>26</td>\n",
       "      <td>None</td>\n",
       "      <td>Single</td>\n",
       "      <td>Male</td>\n",
       "      <td>Employed</td>\n",
       "      <td>None</td>\n",
       "      <td>None</td>\n",
       "      <td>Employed</td>\n",
       "    </tr>\n",
       "  </tbody>\n",
       "</table>\n",
       "<p>230 rows × 12 columns</p>\n",
       "</div>"
      ],
      "text/plain": [
       "      House Number            Street First Name    Surname  Age  \\\n",
       "23              13  Gracehawk Street      Glenn      White   21   \n",
       "24              13  Gracehawk Street     Victor       Lowe   20   \n",
       "75               7        Swift Spur   Mohammad       Reid   37   \n",
       "118             18        Swift Spur    Kenneth  Whitehead   41   \n",
       "141             25        Swift Spur    Mohamed    Randall   20   \n",
       "...            ...               ...        ...        ...  ...   \n",
       "7974            44      Holmes Plaza      Wayne      Grant   29   \n",
       "7975            44      Holmes Plaza     Ronald     Thomas   24   \n",
       "7976            44      Holmes Plaza      James     Taylor   20   \n",
       "7982            46      Holmes Plaza      Shane      Brown   26   \n",
       "8173             1   Wilson Barracks       Gary  Tomlinson   26   \n",
       "\n",
       "     Relationship to Head of House Marital Status Gender Occupation Infirmity  \\\n",
       "23                            None         Single   Male    Student      None   \n",
       "24                            None         Single   Male    Student      None   \n",
       "75                            None         Single   Male   Employed      None   \n",
       "118                           None         Single   Male   Employed      None   \n",
       "141                           None         Single   Male    Student      None   \n",
       "...                            ...            ...    ...        ...       ...   \n",
       "7974                          None         Single   Male    Student      None   \n",
       "7975                          None         Single   Male    Student      None   \n",
       "7976                          None         Single   Male    Student      None   \n",
       "7982                          None         Single   Male   Employed      None   \n",
       "8173                          None         Single   Male   Employed      None   \n",
       "\n",
       "       Religion employment status  \n",
       "23         None           Student  \n",
       "24    Methodist           Student  \n",
       "75    Christian          Employed  \n",
       "118        None          Employed  \n",
       "141        None           Student  \n",
       "...         ...               ...  \n",
       "7974  Christian           Student  \n",
       "7975    Buddist           Student  \n",
       "7976       None           Student  \n",
       "7982       None          Employed  \n",
       "8173       None          Employed  \n",
       "\n",
       "[230 rows x 12 columns]"
      ]
     },
     "execution_count": 92,
     "metadata": {},
     "output_type": "execute_result"
    }
   ],
   "source": [
    "lg_census[(lg_census['Relationship to Head of House']=='None') & (lg_census['Age'] > 18) & (lg_census['Gender']== 'Male')]\n",
    "#to check for the condition where Age is above 18 and Gender is male"
   ]
  },
  {
   "cell_type": "code",
   "execution_count": 93,
   "id": "1715743b",
   "metadata": {},
   "outputs": [],
   "source": [
    "lg_census.loc[(lg_census['Relationship to Head of House']=='None')&(lg_census['Age'] > 18)&(lg_census['Gender']=='Female'), 'Relationship to Head of House' ]= 'Daughter'\n",
    "#uses the loc argument to assign all the conditions above 18 and are female to Daughter"
   ]
  },
  {
   "cell_type": "code",
   "execution_count": 94,
   "id": "f7415aeb",
   "metadata": {},
   "outputs": [],
   "source": [
    "lg_census.loc[(lg_census['Relationship to Head of House']=='None')&(lg_census['Age'] > 18)&(lg_census['Gender']=='Male'), 'Relationship to Head of House' ]= 'Son'\n",
    "#uses the loc argument to assign the all conditions above 18 and are male to Son"
   ]
  },
  {
   "cell_type": "code",
   "execution_count": 95,
   "id": "916e1aab",
   "metadata": {},
   "outputs": [
    {
     "data": {
      "text/plain": [
       "array(['Head', 'Wife', 'Lodger', 'Partner', 'Husband', 'Son', 'Daughter',\n",
       "       'None', 'Granddaughter', 'Grandson', 'Nephew', 'Step-Son',\n",
       "       'Cousin', 'Sibling', 'Step-Daughter', 'Adopted Daughter',\n",
       "       'Visitor', 'Neice', 'Adopted Son', 'Adopted Grandson', ' ',\n",
       "       'Adopted Granddaughter'], dtype=object)"
      ]
     },
     "execution_count": 95,
     "metadata": {},
     "output_type": "execute_result"
    }
   ],
   "source": [
    "lg_census['Relationship to Head of House'].unique()  \n",
    "#checking for any unique values"
   ]
  },
  {
   "cell_type": "code",
   "execution_count": 96,
   "id": "72323bee",
   "metadata": {},
   "outputs": [
    {
     "data": {
      "text/plain": [
       "Head                     3227\n",
       "Son                      1533\n",
       "Daughter                 1432\n",
       "Husband                   866\n",
       "Wife                      288\n",
       "Partner                   272\n",
       "Lodger                    201\n",
       "Granddaughter              93\n",
       "Grandson                   80\n",
       "Sibling                    33\n",
       "None                       30\n",
       "Step-Daughter              22\n",
       "Cousin                     22\n",
       "Adopted Daughter           13\n",
       "Step-Son                   13\n",
       "Visitor                    12\n",
       "Adopted Son                10\n",
       "Nephew                      9\n",
       "Neice                       9\n",
       "Adopted Grandson            2\n",
       "                            1\n",
       "Adopted Granddaughter       1\n",
       "Name: Relationship to Head of House, dtype: int64"
      ]
     },
     "execution_count": 96,
     "metadata": {},
     "output_type": "execute_result"
    }
   ],
   "source": [
    "lg_census['Relationship to Head of House'].value_counts() #checking for all values with counts"
   ]
  },
  {
   "cell_type": "code",
   "execution_count": 97,
   "id": "87024d74",
   "metadata": {},
   "outputs": [],
   "source": [
    "#replace the space and add to the modal value in the list 'Head'\n",
    "lg_census['Relationship to Head of House'].replace({' ':'Head'}, inplace=True)"
   ]
  },
  {
   "cell_type": "code",
   "execution_count": 98,
   "id": "2c331e07",
   "metadata": {},
   "outputs": [
    {
     "data": {
      "text/plain": [
       "Head                     3228\n",
       "Son                      1533\n",
       "Daughter                 1432\n",
       "Husband                   866\n",
       "Wife                      288\n",
       "Partner                   272\n",
       "Lodger                    201\n",
       "Granddaughter              93\n",
       "Grandson                   80\n",
       "Sibling                    33\n",
       "None                       30\n",
       "Cousin                     22\n",
       "Step-Daughter              22\n",
       "Step-Son                   13\n",
       "Adopted Daughter           13\n",
       "Visitor                    12\n",
       "Adopted Son                10\n",
       "Nephew                      9\n",
       "Neice                       9\n",
       "Adopted Grandson            2\n",
       "Adopted Granddaughter       1\n",
       "Name: Relationship to Head of House, dtype: int64"
      ]
     },
     "execution_count": 98,
     "metadata": {},
     "output_type": "execute_result"
    }
   ],
   "source": [
    "lg_census['Relationship to Head of House'].value_counts() #checking"
   ]
  },
  {
   "cell_type": "code",
   "execution_count": 99,
   "id": "5209881e",
   "metadata": {},
   "outputs": [
    {
     "data": {
      "text/html": [
       "<div>\n",
       "<style scoped>\n",
       "    .dataframe tbody tr th:only-of-type {\n",
       "        vertical-align: middle;\n",
       "    }\n",
       "\n",
       "    .dataframe tbody tr th {\n",
       "        vertical-align: top;\n",
       "    }\n",
       "\n",
       "    .dataframe thead th {\n",
       "        text-align: right;\n",
       "    }\n",
       "</style>\n",
       "<table border=\"1\" class=\"dataframe\">\n",
       "  <thead>\n",
       "    <tr style=\"text-align: right;\">\n",
       "      <th></th>\n",
       "      <th>House Number</th>\n",
       "      <th>Street</th>\n",
       "      <th>First Name</th>\n",
       "      <th>Surname</th>\n",
       "      <th>Age</th>\n",
       "      <th>Relationship to Head of House</th>\n",
       "      <th>Marital Status</th>\n",
       "      <th>Gender</th>\n",
       "      <th>Occupation</th>\n",
       "      <th>Infirmity</th>\n",
       "      <th>Religion</th>\n",
       "      <th>employment status</th>\n",
       "    </tr>\n",
       "  </thead>\n",
       "  <tbody>\n",
       "  </tbody>\n",
       "</table>\n",
       "</div>"
      ],
      "text/plain": [
       "Empty DataFrame\n",
       "Columns: [House Number, Street, First Name, Surname, Age, Relationship to Head of House, Marital Status, Gender, Occupation, Infirmity, Religion, employment status]\n",
       "Index: []"
      ]
     },
     "execution_count": 99,
     "metadata": {},
     "output_type": "execute_result"
    }
   ],
   "source": [
    "lg_census[(lg_census['Relationship to Head of House']=='Wife') & (lg_census['Age'] < 18) & (lg_census['Gender']== 'Female')]\n",
    "\n",
    "#to check for the condition where Age is less than 18, Gender is female and is a wife to check for fake data\n",
    "#returns no value"
   ]
  },
  {
   "cell_type": "code",
   "execution_count": 100,
   "id": "66b9fd7c",
   "metadata": {},
   "outputs": [
    {
     "data": {
      "text/html": [
       "<div>\n",
       "<style scoped>\n",
       "    .dataframe tbody tr th:only-of-type {\n",
       "        vertical-align: middle;\n",
       "    }\n",
       "\n",
       "    .dataframe tbody tr th {\n",
       "        vertical-align: top;\n",
       "    }\n",
       "\n",
       "    .dataframe thead th {\n",
       "        text-align: right;\n",
       "    }\n",
       "</style>\n",
       "<table border=\"1\" class=\"dataframe\">\n",
       "  <thead>\n",
       "    <tr style=\"text-align: right;\">\n",
       "      <th></th>\n",
       "      <th>House Number</th>\n",
       "      <th>Street</th>\n",
       "      <th>First Name</th>\n",
       "      <th>Surname</th>\n",
       "      <th>Age</th>\n",
       "      <th>Relationship to Head of House</th>\n",
       "      <th>Marital Status</th>\n",
       "      <th>Gender</th>\n",
       "      <th>Occupation</th>\n",
       "      <th>Infirmity</th>\n",
       "      <th>Religion</th>\n",
       "      <th>employment status</th>\n",
       "    </tr>\n",
       "  </thead>\n",
       "  <tbody>\n",
       "  </tbody>\n",
       "</table>\n",
       "</div>"
      ],
      "text/plain": [
       "Empty DataFrame\n",
       "Columns: [House Number, Street, First Name, Surname, Age, Relationship to Head of House, Marital Status, Gender, Occupation, Infirmity, Religion, employment status]\n",
       "Index: []"
      ]
     },
     "execution_count": 100,
     "metadata": {},
     "output_type": "execute_result"
    }
   ],
   "source": [
    "lg_census[(lg_census['Relationship to Head of House']=='Husband') & (lg_census['Age'] < 18) & (lg_census['Gender']== 'Male')]\n",
    "\n",
    "#to check for the condition where Age is less than 18, Gender is male and is a Husband\n",
    "#returns no value"
   ]
  },
  {
   "cell_type": "code",
   "execution_count": 101,
   "id": "1c7cec68",
   "metadata": {},
   "outputs": [
    {
     "data": {
      "text/plain": [
       "array(['Single', 'Married'], dtype=object)"
      ]
     },
     "execution_count": 101,
     "metadata": {},
     "output_type": "execute_result"
    }
   ],
   "source": [
    "lg_census[lg_census['Age'] < 18]['Marital Status'].unique() \n",
    "#checking for minors in marital status that are divorced or married"
   ]
  },
  {
   "cell_type": "code",
   "execution_count": 102,
   "id": "ac9abed5",
   "metadata": {},
   "outputs": [
    {
     "data": {
      "text/html": [
       "<div>\n",
       "<style scoped>\n",
       "    .dataframe tbody tr th:only-of-type {\n",
       "        vertical-align: middle;\n",
       "    }\n",
       "\n",
       "    .dataframe tbody tr th {\n",
       "        vertical-align: top;\n",
       "    }\n",
       "\n",
       "    .dataframe thead th {\n",
       "        text-align: right;\n",
       "    }\n",
       "</style>\n",
       "<table border=\"1\" class=\"dataframe\">\n",
       "  <thead>\n",
       "    <tr style=\"text-align: right;\">\n",
       "      <th></th>\n",
       "      <th>House Number</th>\n",
       "      <th>Street</th>\n",
       "      <th>First Name</th>\n",
       "      <th>Surname</th>\n",
       "      <th>Age</th>\n",
       "      <th>Relationship to Head of House</th>\n",
       "      <th>Marital Status</th>\n",
       "      <th>Gender</th>\n",
       "      <th>Occupation</th>\n",
       "      <th>Infirmity</th>\n",
       "      <th>Religion</th>\n",
       "      <th>employment status</th>\n",
       "    </tr>\n",
       "  </thead>\n",
       "  <tbody>\n",
       "    <tr>\n",
       "      <th>6683</th>\n",
       "      <td>25</td>\n",
       "      <td>Upland Street</td>\n",
       "      <td>Tracy</td>\n",
       "      <td>Davis</td>\n",
       "      <td>17</td>\n",
       "      <td>Head</td>\n",
       "      <td>Married</td>\n",
       "      <td>Female</td>\n",
       "      <td>Student</td>\n",
       "      <td>None</td>\n",
       "      <td>None</td>\n",
       "      <td>Student</td>\n",
       "    </tr>\n",
       "    <tr>\n",
       "      <th>7049</th>\n",
       "      <td>1</td>\n",
       "      <td>Lewis Pike</td>\n",
       "      <td>Helen</td>\n",
       "      <td>Williams</td>\n",
       "      <td>17</td>\n",
       "      <td>Head</td>\n",
       "      <td>Married</td>\n",
       "      <td>Female</td>\n",
       "      <td>Student</td>\n",
       "      <td>None</td>\n",
       "      <td>None</td>\n",
       "      <td>Student</td>\n",
       "    </tr>\n",
       "  </tbody>\n",
       "</table>\n",
       "</div>"
      ],
      "text/plain": [
       "      House Number         Street First Name   Surname  Age  \\\n",
       "6683            25  Upland Street      Tracy     Davis   17   \n",
       "7049             1     Lewis Pike      Helen  Williams   17   \n",
       "\n",
       "     Relationship to Head of House Marital Status  Gender Occupation  \\\n",
       "6683                          Head        Married  Female    Student   \n",
       "7049                          Head        Married  Female    Student   \n",
       "\n",
       "     Infirmity Religion employment status  \n",
       "6683      None     None           Student  \n",
       "7049      None     None           Student  "
      ]
     },
     "execution_count": 102,
     "metadata": {},
     "output_type": "execute_result"
    }
   ],
   "source": [
    "lg_census[(lg_census['Marital Status']=='Married') & (lg_census['Age'] < 18)] \n",
    "#list of married minors that needs to be dropped"
   ]
  },
  {
   "cell_type": "code",
   "execution_count": 103,
   "id": "f704f0ef",
   "metadata": {},
   "outputs": [],
   "source": [
    "lg_census.drop(lg_census[(lg_census['Marital Status']=='Married') & (lg_census['Age'] < 18)].index, inplace=True)  \n",
    "#to drop the rows returned as minors and married as it is against the law and just 2 rows which will not have any real impact on the real data"
   ]
  },
  {
   "cell_type": "code",
   "execution_count": 104,
   "id": "d2871d6e",
   "metadata": {},
   "outputs": [
    {
     "data": {
      "text/plain": [
       "array(['Single'], dtype=object)"
      ]
     },
     "execution_count": 104,
     "metadata": {},
     "output_type": "execute_result"
    }
   ],
   "source": [
    "lg_census[lg_census['Age'] < 18]['Marital Status'].unique()\n",
    "#to confirm if row has been dropped"
   ]
  },
  {
   "cell_type": "code",
   "execution_count": null,
   "id": "eb434c2c",
   "metadata": {},
   "outputs": [],
   "source": []
  },
  {
   "cell_type": "code",
   "execution_count": 105,
   "id": "ce7034e2",
   "metadata": {},
   "outputs": [
    {
     "data": {
      "text/plain": [
       "array(['Johnson-White', 'Cook', 'Allen', 'Harrison', 'Bishop', 'Thompson',\n",
       "       'King', 'Wilson', 'Collins', 'Roberts', 'Howarth', 'Page',\n",
       "       'Martin', 'Rees', 'Robinson', 'Harris', 'Horton', 'Morgan',\n",
       "       'James', 'White', 'Lowe', 'Howe', 'Jones', 'Kaur', 'Little',\n",
       "       'Ross', 'Wong', 'Hicks', 'Davies', 'Foster', 'Walsh', 'Osborne',\n",
       "       'Barry', 'Young', 'Kennedy', 'Pickering', 'Gibson', 'Williams',\n",
       "       'Burke-Williams', 'Wood', 'Payne', 'Stevens', 'Johnson',\n",
       "       'Richards', 'Reid', 'Marshall', 'Mitchell', 'Parkin',\n",
       "       'Herbert-Elliott', 'Begum', 'Webster', 'Taylor', 'Taylor-Hardy',\n",
       "       \"O'Neill-Thompson\", 'Read', 'John', 'Power', 'Morris', 'Griffiths',\n",
       "       'Whitehead', 'Harding', 'Clarke', 'Reynolds', 'Peters', 'Murray',\n",
       "       'Pugh', 'Murphy', 'Brown', 'Randall', 'Barton', 'Johnson-Barton',\n",
       "       'Peacock', 'Cooper', 'Cooper-Kay', 'Macdonald', \"O'Connor\",\n",
       "       'Knowles', 'Elliott', 'Perry', 'Cole', 'Turner', 'Coles',\n",
       "       'Holloway', 'Chandler', 'Gough', 'Sims', 'Fisher', 'West',\n",
       "       'Chapman', 'Moore', 'Todd', 'Smith', 'Wall', 'Carr', 'Lawrence',\n",
       "       'Bell', 'Ali', 'Barnes', 'Bennett', 'Hill', 'Hartley', 'Doherty',\n",
       "       'Moore-Lees', 'Atkins', 'Vaughan-Lloyd', 'Howard', 'Nicholson',\n",
       "       'Hunter', 'Lee', 'Clark', 'Porter', 'Simpson', 'Warner', 'Oliver',\n",
       "       'Dixon', 'Gilbert', 'Bailey', 'Brooks', 'Skinner', 'Thomas',\n",
       "       'Wright', 'Wilkinson', 'Cooke-Taylor', 'Bolton', 'Robertson',\n",
       "       'Bond', 'Kelly-Bond', 'Greenwood', 'Stewart', 'Owens', 'Booth',\n",
       "       'Stanley', 'Powell', 'Ball', 'Harvey', 'Grant', 'Parsons', 'Frost',\n",
       "       'Akhtar', 'Hayward', 'Harper', 'Morrison', 'Pearson',\n",
       "       'Hughes-Pearson', 'Chadwick', 'Thorpe', 'Evans', 'Reed', 'Hussain',\n",
       "       'Sharp', 'Rees-Sharp', 'Smart', 'Gordon-Smart', 'Webb',\n",
       "       'Sanderson', 'Palmer', 'Andrews', 'Graham', 'Wallis', 'Hamilton',\n",
       "       'Bradley', 'Newton', 'Smith-Newton', 'McCarthy', 'Lane', 'Barrett',\n",
       "       'Walters', 'Patel', 'Shaw', 'Bibi', 'Dean', 'Gould-Cole', 'Holmes',\n",
       "       'Weston', 'Patel-Weston', 'Potter', 'Jackson', 'Higgins', 'Chan',\n",
       "       'Rose', 'Ryan', 'Edwards', 'Saunders', 'Green', 'Gill', 'Douglas',\n",
       "       'Law', 'Parker', 'Davis', 'Norris', 'Day', 'Griffin', 'Chambers',\n",
       "       'Winter', 'Rogers', 'Ellis', 'Austin', 'Fox', 'Ward', 'Scott',\n",
       "       'Hunt', 'Jenkins', 'Adams', 'Bull', 'Russell', 'Townsend', 'Lloyd',\n",
       "       'Kerr', 'Parkinson', 'Jennings', 'Hargreaves', 'Wells', 'Lyons',\n",
       "       'Mason', 'Blake', 'Warren', 'Butler', 'Barnett', 'Miah',\n",
       "       'Anderson', 'Lawson', 'Sullivan', 'Parkes', 'Lewis', 'Simmons',\n",
       "       'Simmons-Chambers', 'Willis', 'Evans-Willis', 'Sinclair',\n",
       "       'Fletcher', 'Goddard', 'Dyer', 'Buckley', 'Bradshaw', 'Walker',\n",
       "       'Wade-Walker', 'Collier', 'Sharpe', 'Gallagher', 'Nelson',\n",
       "       'Andrews-Parkinson', 'Bray', 'Holden', 'Barker', 'Curtis',\n",
       "       'Summers', 'Ahmed', 'Ford', 'Carroll', 'Parry-Lynch', 'Jordan',\n",
       "       'Ryan-Mason', 'Phillips', 'Cameron', 'Carpenter', 'McKenzie',\n",
       "       'Mahmood', 'Hodgson', 'Dawson', 'Baker', 'Pearce', 'May', 'Rowley',\n",
       "       'Jones-Wilson', 'Patterson', 'Doyle', 'Phillips-Doyle',\n",
       "       \"O'Sullivan\", 'Lamb', 'Stephens', 'Cox', 'Hamilton-Fox', 'Miller',\n",
       "       'Smith-Miller', 'Vincent', 'Thornton', 'Lucas', 'Poole',\n",
       "       'Williamson', 'Davey', 'Barber', 'Carter', 'Cross', 'Dale', 'Hall',\n",
       "       'Riley', 'Lees', 'Hyde', 'Gibbs', 'Fitzgerald', 'Whittaker',\n",
       "       'McDonald', 'Kent', 'Metcalfe', 'Burke', 'Ali-Fox', 'Hobbs',\n",
       "       'Ashton', 'Stone', 'Parry', \"O'Brien\", 'Hawkins', 'Banks',\n",
       "       'Nicholls', 'Bates', 'Gordon', 'Preston', 'Coates', 'Robson',\n",
       "       'Dobson', 'Clayton', 'Cartwright', 'Foster-Morris', 'Hayes',\n",
       "       'Watts', 'Ward-Hill', 'Burgess', 'Crawford', 'Gould', 'Pope',\n",
       "       'Morton', 'Kelly', 'Khan', 'Farmer', 'Finch', 'Hudson', 'Yates',\n",
       "       'Archer', 'Price', 'Burrows', 'Savage', 'Mistry', 'Hutchinson',\n",
       "       'Henderson', 'Glover', 'Owen', 'Atkinson', 'Wright-Hooper',\n",
       "       'Cooke', 'Allen-Johnson', 'Fleming', 'Henry', 'Butcher',\n",
       "       'Campbell', 'Hilton', 'Cameron-Sharpe', 'Marsh', 'Mills', 'Bryan',\n",
       "       'Young-Bryan', 'Kirk', 'Cunningham', 'Knight', 'Long', 'Hart',\n",
       "       'George', 'Mellor', 'Wade', 'Shah', 'Watkins', 'Pearson-Ball',\n",
       "       'Hutchinson-Pearson-Ball', 'Sanders', 'Briggs', 'Sykes', 'Holt',\n",
       "       'Miles', 'Browne', 'Bird', 'Hancock', 'Sheppard', 'Quinn', 'Dodd',\n",
       "       'Phillips-Griffiths', 'Fraser', 'Coleman', 'Daniels', 'Richardson',\n",
       "       'Perkins', 'McLean', 'Fuller', 'Spencer', 'Steele', 'Hopkins',\n",
       "       'Davison', 'Hardy', 'Gray', 'Gardner-Campbell', 'Hughes',\n",
       "       'Schofield', 'Waters', 'Watson', 'Bruce', 'Black', 'Burton',\n",
       "       'Kemp', 'Bond-Williamson', 'Hewitt', 'Chamberlain', 'Daly',\n",
       "       'Hurst', 'Heath', 'Goodwin', 'Bruce-Buckley', 'Newman', 'Sutton',\n",
       "       'Barlow', 'Herbert', 'King-Cole', 'Ferguson', 'Lynch-Ferguson',\n",
       "       'Hill-Price', 'Iqbal', 'Farrell', 'Jarvis', 'Vaughan', 'Singh',\n",
       "       'Brennan', 'Morley', 'Kirby', 'Tomlinson', 'Hutchinson-Shaw',\n",
       "       'Bowen', 'Byrne', 'Moss', 'Wyatt', 'Davidson', 'Mann',\n",
       "       'Hill-Holden', 'Freeman', 'Lynch', 'Fitzgerald-Campbell',\n",
       "       'Shepherd', 'Bruce-Mitchell', 'Duncan', 'Butler-Anderson', 'Tyler',\n",
       "       'Jones-Richardson', 'Hale', 'Giles', 'Fry', 'Stephenson',\n",
       "       'Wallace', 'Jones-McLean', 'Curtis-Lynch', 'Howells', 'Fowler',\n",
       "       'Norman', 'Kay', 'Nolan', 'Conway', 'Forster', 'Walton', 'Dunn',\n",
       "       'Craig', 'Pritchard', 'Haynes', 'Slater', 'Connolly',\n",
       "       'Hutchinson-Robertson', 'Cooke-Wilson', 'Reeves', 'North',\n",
       "       'Pollard', 'Johnston', 'Sheppard-Randall', 'Johnson-Johnson',\n",
       "       'Hammond', 'Tucker', 'Francis', 'Hope', 'Lloyd-Hart',\n",
       "       'Brown-Allen', 'Lee-Richards', 'Rowe', 'Marsden', 'Moran',\n",
       "       'Porter-Simpson', 'Alexander', 'Bevan', 'Rhodes', 'Morton-Jackson',\n",
       "       'Davies-Hurst', 'Swift', 'Holland', 'Connor', 'Berry', 'Ingram',\n",
       "       'Johnson-Mason', 'Baxter', 'Duffy', 'Storey', 'Joyce',\n",
       "       'Joyce-Smith', 'Woods', 'Donnelly', 'Houghton', 'Whitehouse',\n",
       "       'Bartlett', 'Middleton', 'Matthews', 'Hooper', 'Hayes-Taylor',\n",
       "       'Singh-Hicks', 'Nixon', 'Garner', 'Murphy-Russell', \"O'Neill\",\n",
       "       'Dickinson', 'Brown-Wood', 'Woodward', 'Wheeler', 'Kirby-Godfrey',\n",
       "       'Williams-Butcher', 'Turner-Williams-Butcher', 'Arnold', 'Field',\n",
       "       'Short', 'Smith-Young', 'Gregory', 'Palmer-Watson', 'Turnbull',\n",
       "       'Norton', 'Sinclair-Richardson', 'Wallace-Campbell', 'Lowe-Taylor',\n",
       "       'Fitzgerald-Green', 'Charlton-Riley', 'Watts-Charlton-Riley',\n",
       "       'Flynn', 'Smith-King', 'Matthews-Clark', 'Wilkins', 'Howell',\n",
       "       'Bryant', 'Charlton', \"O'Donnell\", 'Ryan-Brooks', 'Clements',\n",
       "       'Nash-Chadwick', 'Patel-Evans', 'Smith-Watson', 'Shah-Murphy',\n",
       "       'Harrison-Bailey', 'Thomson', 'Gardner', 'Stevenson',\n",
       "       'Jenkins-Wood', 'Potts', 'Bentley', 'French', 'Jackson-Smith',\n",
       "       'Armstrong', 'Noble', 'Naylor', 'Leach', 'Stewart-Lee',\n",
       "       'Kaur-King', 'Richards-Khan', 'Anderson-Ward', 'Robinson-Jones',\n",
       "       'Watkins-Howarth', 'Bird-Conway', 'Evans-Evans', 'Patel-Wyatt',\n",
       "       'Chandler-Warner', 'Norton-Thompson', 'Morley-Johnson',\n",
       "       'Long-Henderson', 'Holland-Miller', 'Greenwood-Walker',\n",
       "       'Morgan-Lees', 'Morris-Cook', 'Mason-Martin', 'Nash',\n",
       "       'Elliott-Young', 'Hanson', 'Rowley-Gibson', 'Farrell-Reed',\n",
       "       'Goodwin-Reynolds', 'Field-Johnson', 'Birch', 'Allan',\n",
       "       'Daly-Bennett', 'Lewis-Singh', 'Hughes-Holt', 'Leonard', 'Stokes',\n",
       "       'Lambert', 'Richardson-Cameron', 'Abbott', 'Humphreys',\n",
       "       'Knight-Watts', 'Boyle', 'Faulkner', 'Sykes-Butler',\n",
       "       'Jones-Sykes-Butler', 'Patel-King', 'McDonald-Warren',\n",
       "       'Fisher-Ward', \"O'Brien-Townsend\", 'Myers', 'Cook-Thomas',\n",
       "       'Brookes-Watson', 'Rogers-Giles', 'Dennis', 'Kirk-Armstrong',\n",
       "       'Marshall-Coates', 'Thomas-Marshall-Coates', 'Griffiths-Jones',\n",
       "       'Williams-Moore', 'James-Owen', 'Humphries', 'Johnson-Turnbull',\n",
       "       'Talbot', 'Atkinson-Baker', 'Campbell-Davies', 'Pratt',\n",
       "       'Allen-Kent', 'Davies-Wilson', 'Gibbons', 'Lord', 'Doyle-Clarke',\n",
       "       'Rice', 'Dixon-Walters', 'Gardiner', 'Morgan-Field',\n",
       "       'Alexander-Little', 'Smith-Thomas', 'Miller-Smith',\n",
       "       'Moss-Williams', 'Hewitt-Kelly', 'Rogers-Carter', 'Schofield-May',\n",
       "       'Walsh-Johnson', 'Manning', 'Smith-Khan', 'Brady', 'Fowler-Davies',\n",
       "       'Hodgson-Hall', 'Burns', 'Coleman-Martin', 'Austin-Brown', 'Welch'],\n",
       "      dtype=object)"
      ]
     },
     "execution_count": 105,
     "metadata": {},
     "output_type": "execute_result"
    }
   ],
   "source": [
    "lg_census['Surname'].unique()"
   ]
  },
  {
   "cell_type": "code",
   "execution_count": 106,
   "id": "d46cb5bc",
   "metadata": {},
   "outputs": [
    {
     "data": {
      "text/plain": [
       "Smith                   215\n",
       "Jones                   206\n",
       "Williams                147\n",
       "Taylor                  114\n",
       "Brown                   110\n",
       "                       ... \n",
       "Hanson                    1\n",
       "Hutchinson-Robertson      1\n",
       "Cooke-Wilson              1\n",
       "Morris-Cook               1\n",
       "Welch                     1\n",
       "Name: Surname, Length: 644, dtype: int64"
      ]
     },
     "execution_count": 106,
     "metadata": {},
     "output_type": "execute_result"
    }
   ],
   "source": [
    "lg_census['Surname'].value_counts(dropna=False)\n",
    "#to check for values with Na"
   ]
  },
  {
   "cell_type": "code",
   "execution_count": 107,
   "id": "58256a10",
   "metadata": {},
   "outputs": [],
   "source": [
    "#lg_census.shape"
   ]
  },
  {
   "cell_type": "markdown",
   "id": "27660591",
   "metadata": {},
   "source": [
    "# Data Analysis"
   ]
  },
  {
   "cell_type": "code",
   "execution_count": 108,
   "id": "a0f6b7a1",
   "metadata": {},
   "outputs": [],
   "source": [
    "#using univariate and multivariate plots to understand the numbers in the dataset\n",
    "\n",
    "import seaborn as sns\n",
    "import matplotlib as plt\n",
    "import matplotlib.pyplot as plt"
   ]
  },
  {
   "cell_type": "code",
   "execution_count": 109,
   "id": "532f34d8",
   "metadata": {},
   "outputs": [
    {
     "ename": "AttributeError",
     "evalue": "'DataFrame' object has no attribute 'profile_report'",
     "output_type": "error",
     "traceback": [
      "\u001b[1;31m---------------------------------------------------------------------------\u001b[0m",
      "\u001b[1;31mAttributeError\u001b[0m                            Traceback (most recent call last)",
      "Input \u001b[1;32mIn [109]\u001b[0m, in \u001b[0;36m<cell line: 3>\u001b[1;34m()\u001b[0m\n\u001b[0;32m      1\u001b[0m \u001b[38;5;66;03m#running the profile report after cleaning to see summarised view\u001b[39;00m\n\u001b[1;32m----> 3\u001b[0m \u001b[43mlg_census\u001b[49m\u001b[38;5;241;43m.\u001b[39;49m\u001b[43mprofile_report\u001b[49m()\n",
      "File \u001b[1;32mC:\\Program Files\\Python310\\lib\\site-packages\\pandas\\core\\generic.py:5575\u001b[0m, in \u001b[0;36mNDFrame.__getattr__\u001b[1;34m(self, name)\u001b[0m\n\u001b[0;32m   5568\u001b[0m \u001b[38;5;28;01mif\u001b[39;00m (\n\u001b[0;32m   5569\u001b[0m     name \u001b[38;5;129;01mnot\u001b[39;00m \u001b[38;5;129;01min\u001b[39;00m \u001b[38;5;28mself\u001b[39m\u001b[38;5;241m.\u001b[39m_internal_names_set\n\u001b[0;32m   5570\u001b[0m     \u001b[38;5;129;01mand\u001b[39;00m name \u001b[38;5;129;01mnot\u001b[39;00m \u001b[38;5;129;01min\u001b[39;00m \u001b[38;5;28mself\u001b[39m\u001b[38;5;241m.\u001b[39m_metadata\n\u001b[0;32m   5571\u001b[0m     \u001b[38;5;129;01mand\u001b[39;00m name \u001b[38;5;129;01mnot\u001b[39;00m \u001b[38;5;129;01min\u001b[39;00m \u001b[38;5;28mself\u001b[39m\u001b[38;5;241m.\u001b[39m_accessors\n\u001b[0;32m   5572\u001b[0m     \u001b[38;5;129;01mand\u001b[39;00m \u001b[38;5;28mself\u001b[39m\u001b[38;5;241m.\u001b[39m_info_axis\u001b[38;5;241m.\u001b[39m_can_hold_identifiers_and_holds_name(name)\n\u001b[0;32m   5573\u001b[0m ):\n\u001b[0;32m   5574\u001b[0m     \u001b[38;5;28;01mreturn\u001b[39;00m \u001b[38;5;28mself\u001b[39m[name]\n\u001b[1;32m-> 5575\u001b[0m \u001b[38;5;28;01mreturn\u001b[39;00m \u001b[38;5;28;43mobject\u001b[39;49m\u001b[38;5;241;43m.\u001b[39;49m\u001b[38;5;21;43m__getattribute__\u001b[39;49m\u001b[43m(\u001b[49m\u001b[38;5;28;43mself\u001b[39;49m\u001b[43m,\u001b[49m\u001b[43m \u001b[49m\u001b[43mname\u001b[49m\u001b[43m)\u001b[49m\n",
      "\u001b[1;31mAttributeError\u001b[0m: 'DataFrame' object has no attribute 'profile_report'"
     ]
    }
   ],
   "source": [
    "#running the profile report after cleaning to see summarised view\n",
    "\n",
    "lg_census.profile_report()\n",
    "\n",
    "#or profile.to_notebook_iframe()"
   ]
  },
  {
   "cell_type": "code",
   "execution_count": null,
   "id": "e552bdb1",
   "metadata": {},
   "outputs": [],
   "source": [
    "profile = ProfileReport(lg_census, title=\"Pandas Profiling Report\", explorative=True)"
   ]
  },
  {
   "cell_type": "code",
   "execution_count": null,
   "id": "5dabb853",
   "metadata": {},
   "outputs": [],
   "source": [
    "profile.to_widgets()"
   ]
  },
  {
   "cell_type": "code",
   "execution_count": null,
   "id": "31a369f7",
   "metadata": {},
   "outputs": [],
   "source": [
    "#lg_census.corr()\n",
    "#lg_census.head()\n",
    "lg_census.describe()"
   ]
  },
  {
   "cell_type": "code",
   "execution_count": null,
   "id": "65183f35",
   "metadata": {},
   "outputs": [],
   "source": [
    "#pd.crosstab(lg_census.Marital Status, lg_census.Age)"
   ]
  },
  {
   "cell_type": "code",
   "execution_count": null,
   "id": "a8aa4b33",
   "metadata": {},
   "outputs": [],
   "source": [
    "#print(lg_census.columns)"
   ]
  },
  {
   "cell_type": "code",
   "execution_count": 134,
   "id": "f5306e18",
   "metadata": {},
   "outputs": [
    {
     "data": {
      "text/html": [
       "<div>\n",
       "<style scoped>\n",
       "    .dataframe tbody tr th:only-of-type {\n",
       "        vertical-align: middle;\n",
       "    }\n",
       "\n",
       "    .dataframe tbody tr th {\n",
       "        vertical-align: top;\n",
       "    }\n",
       "\n",
       "    .dataframe thead th {\n",
       "        text-align: right;\n",
       "    }\n",
       "</style>\n",
       "<table border=\"1\" class=\"dataframe\">\n",
       "  <thead>\n",
       "    <tr style=\"text-align: right;\">\n",
       "      <th></th>\n",
       "      <th>House Number</th>\n",
       "      <th>Street</th>\n",
       "      <th>First Name</th>\n",
       "      <th>Surname</th>\n",
       "      <th>Age</th>\n",
       "      <th>Relationship to Head of House</th>\n",
       "      <th>Marital Status</th>\n",
       "      <th>Gender</th>\n",
       "      <th>Occupation</th>\n",
       "      <th>Infirmity</th>\n",
       "      <th>Religion</th>\n",
       "      <th>employment status</th>\n",
       "    </tr>\n",
       "  </thead>\n",
       "  <tbody>\n",
       "    <tr>\n",
       "      <th>0</th>\n",
       "      <td>1</td>\n",
       "      <td>Windsor Plaza</td>\n",
       "      <td>Cameron</td>\n",
       "      <td>Johnson-White</td>\n",
       "      <td>37</td>\n",
       "      <td>Head</td>\n",
       "      <td>Married</td>\n",
       "      <td>Male</td>\n",
       "      <td>Employed</td>\n",
       "      <td>None</td>\n",
       "      <td>Christian</td>\n",
       "      <td>Employed</td>\n",
       "    </tr>\n",
       "    <tr>\n",
       "      <th>1</th>\n",
       "      <td>1</td>\n",
       "      <td>Windsor Plaza</td>\n",
       "      <td>Katherine</td>\n",
       "      <td>Johnson-White</td>\n",
       "      <td>26</td>\n",
       "      <td>Wife</td>\n",
       "      <td>Married</td>\n",
       "      <td>Female</td>\n",
       "      <td>Employed</td>\n",
       "      <td>None</td>\n",
       "      <td>None</td>\n",
       "      <td>Employed</td>\n",
       "    </tr>\n",
       "    <tr>\n",
       "      <th>15</th>\n",
       "      <td>9</td>\n",
       "      <td>Gracehawk Street</td>\n",
       "      <td>Charlene</td>\n",
       "      <td>Rees</td>\n",
       "      <td>32</td>\n",
       "      <td>Head</td>\n",
       "      <td>Married</td>\n",
       "      <td>Female</td>\n",
       "      <td>Employed</td>\n",
       "      <td>None</td>\n",
       "      <td>None</td>\n",
       "      <td>Employed</td>\n",
       "    </tr>\n",
       "    <tr>\n",
       "      <th>16</th>\n",
       "      <td>9</td>\n",
       "      <td>Gracehawk Street</td>\n",
       "      <td>Timothy</td>\n",
       "      <td>Rees</td>\n",
       "      <td>34</td>\n",
       "      <td>Husband</td>\n",
       "      <td>Married</td>\n",
       "      <td>Male</td>\n",
       "      <td>Employed</td>\n",
       "      <td>None</td>\n",
       "      <td>None</td>\n",
       "      <td>Employed</td>\n",
       "    </tr>\n",
       "    <tr>\n",
       "      <th>33</th>\n",
       "      <td>2</td>\n",
       "      <td>Fisher Ville</td>\n",
       "      <td>Natalie</td>\n",
       "      <td>Wong</td>\n",
       "      <td>47</td>\n",
       "      <td>Head</td>\n",
       "      <td>Married</td>\n",
       "      <td>Female</td>\n",
       "      <td>Employed</td>\n",
       "      <td>None</td>\n",
       "      <td>Methodist</td>\n",
       "      <td>Employed</td>\n",
       "    </tr>\n",
       "    <tr>\n",
       "      <th>...</th>\n",
       "      <td>...</td>\n",
       "      <td>...</td>\n",
       "      <td>...</td>\n",
       "      <td>...</td>\n",
       "      <td>...</td>\n",
       "      <td>...</td>\n",
       "      <td>...</td>\n",
       "      <td>...</td>\n",
       "      <td>...</td>\n",
       "      <td>...</td>\n",
       "      <td>...</td>\n",
       "      <td>...</td>\n",
       "    </tr>\n",
       "    <tr>\n",
       "      <th>8114</th>\n",
       "      <td>1</td>\n",
       "      <td>Tucker House</td>\n",
       "      <td>Duncan</td>\n",
       "      <td>Howell</td>\n",
       "      <td>57</td>\n",
       "      <td>Husband</td>\n",
       "      <td>Married</td>\n",
       "      <td>Male</td>\n",
       "      <td>Employed</td>\n",
       "      <td>None</td>\n",
       "      <td>Christian</td>\n",
       "      <td>Employed</td>\n",
       "    </tr>\n",
       "    <tr>\n",
       "      <th>8118</th>\n",
       "      <td>1</td>\n",
       "      <td>Upland Fort</td>\n",
       "      <td>Abbie</td>\n",
       "      <td>Stanley</td>\n",
       "      <td>44</td>\n",
       "      <td>Head</td>\n",
       "      <td>Married</td>\n",
       "      <td>Female</td>\n",
       "      <td>Employed</td>\n",
       "      <td>None</td>\n",
       "      <td>Methodist</td>\n",
       "      <td>Employed</td>\n",
       "    </tr>\n",
       "    <tr>\n",
       "      <th>8119</th>\n",
       "      <td>1</td>\n",
       "      <td>Upland Fort</td>\n",
       "      <td>Adam</td>\n",
       "      <td>Stanley</td>\n",
       "      <td>43</td>\n",
       "      <td>Husband</td>\n",
       "      <td>Married</td>\n",
       "      <td>Male</td>\n",
       "      <td>Employed</td>\n",
       "      <td>None</td>\n",
       "      <td>Methodist</td>\n",
       "      <td>Employed</td>\n",
       "    </tr>\n",
       "    <tr>\n",
       "      <th>8127</th>\n",
       "      <td>1</td>\n",
       "      <td>Taylor Folly</td>\n",
       "      <td>Caroline</td>\n",
       "      <td>Morton</td>\n",
       "      <td>39</td>\n",
       "      <td>Head</td>\n",
       "      <td>Married</td>\n",
       "      <td>Female</td>\n",
       "      <td>Employed</td>\n",
       "      <td>None</td>\n",
       "      <td>None</td>\n",
       "      <td>Employed</td>\n",
       "    </tr>\n",
       "    <tr>\n",
       "      <th>8128</th>\n",
       "      <td>1</td>\n",
       "      <td>Taylor Folly</td>\n",
       "      <td>Michael</td>\n",
       "      <td>Morton</td>\n",
       "      <td>40</td>\n",
       "      <td>Husband</td>\n",
       "      <td>Married</td>\n",
       "      <td>Male</td>\n",
       "      <td>Employed</td>\n",
       "      <td>None</td>\n",
       "      <td>None</td>\n",
       "      <td>Employed</td>\n",
       "    </tr>\n",
       "  </tbody>\n",
       "</table>\n",
       "<p>1785 rows × 12 columns</p>\n",
       "</div>"
      ],
      "text/plain": [
       "      House Number            Street First Name        Surname  Age  \\\n",
       "0                1     Windsor Plaza    Cameron  Johnson-White   37   \n",
       "1                1     Windsor Plaza  Katherine  Johnson-White   26   \n",
       "15               9  Gracehawk Street   Charlene           Rees   32   \n",
       "16               9  Gracehawk Street    Timothy           Rees   34   \n",
       "33               2      Fisher Ville    Natalie           Wong   47   \n",
       "...            ...               ...        ...            ...  ...   \n",
       "8114             1      Tucker House     Duncan         Howell   57   \n",
       "8118             1       Upland Fort      Abbie        Stanley   44   \n",
       "8119             1       Upland Fort       Adam        Stanley   43   \n",
       "8127             1      Taylor Folly   Caroline         Morton   39   \n",
       "8128             1      Taylor Folly    Michael         Morton   40   \n",
       "\n",
       "     Relationship to Head of House Marital Status  Gender Occupation  \\\n",
       "0                             Head        Married    Male   Employed   \n",
       "1                             Wife        Married  Female   Employed   \n",
       "15                            Head        Married  Female   Employed   \n",
       "16                         Husband        Married    Male   Employed   \n",
       "33                            Head        Married  Female   Employed   \n",
       "...                            ...            ...     ...        ...   \n",
       "8114                       Husband        Married    Male   Employed   \n",
       "8118                          Head        Married  Female   Employed   \n",
       "8119                       Husband        Married    Male   Employed   \n",
       "8127                          Head        Married  Female   Employed   \n",
       "8128                       Husband        Married    Male   Employed   \n",
       "\n",
       "     Infirmity   Religion employment status  \n",
       "0         None  Christian          Employed  \n",
       "1         None       None          Employed  \n",
       "15        None       None          Employed  \n",
       "16        None       None          Employed  \n",
       "33        None  Methodist          Employed  \n",
       "...        ...        ...               ...  \n",
       "8114      None  Christian          Employed  \n",
       "8118      None  Methodist          Employed  \n",
       "8119      None  Methodist          Employed  \n",
       "8127      None       None          Employed  \n",
       "8128      None       None          Employed  \n",
       "\n",
       "[1785 rows x 12 columns]"
      ]
     },
     "execution_count": 134,
     "metadata": {},
     "output_type": "execute_result"
    }
   ],
   "source": [
    "#) What should be built on an unoccupied plot of land that the local government wishes to \n",
    "#develop? Your choices are: \n",
    "#(i) High-density housing. This should be built if the population is significantly expanding.\n",
    "\n",
    "#- we can check this by the number of married against the working age (between the ages of 16 and 65)in  the population that are healthy\n",
    "#being married we can assume that they have kids, or planning to have kids so will definitely have a large family\n",
    "\n",
    "lg_census[(lg_census['Marital Status']=='Married') & (lg_census['Age'] >= 18) & (lg_census['Age']< 65) & (lg_census['Infirmity']=='None')]"
   ]
  },
  {
   "cell_type": "code",
   "execution_count": 111,
   "id": "28e57f8e",
   "metadata": {},
   "outputs": [
    {
     "data": {
      "image/png": "[encoded data removed]",
      "text/plain": [
       "<Figure size 640x480 with 1 Axes>"
      ]
     },
     "metadata": {},
     "output_type": "display_data"
    }
   ],
   "source": [
    "from matplotlib import pyplot\n",
    "\n",
    "pyplot.hist(lg_census['Marital Status'], bins=50)\n",
    "pyplot.show()"
   ]
  },
  {
   "cell_type": "code",
   "execution_count": 112,
   "id": "7f52a8e9",
   "metadata": {},
   "outputs": [
    {
     "data": {
      "image/png": "[encoded data removed]",
      "text/plain": [
       "<Figure size 640x480 with 1 Axes>"
      ]
     },
     "metadata": {},
     "output_type": "display_data"
    }
   ],
   "source": [
    "from matplotlib import pyplot\n",
    "\n",
    "pyplot.hist(lg_census['Age'], bins=50)\n",
    "pyplot.show()"
   ]
  },
  {
   "cell_type": "code",
   "execution_count": 113,
   "id": "2f39bbc9",
   "metadata": {},
   "outputs": [
    {
     "data": {
      "image/png": "[encoded data removed]",
      "text/plain": [
       "<Figure size 640x480 with 1 Axes>"
      ]
     },
     "metadata": {},
     "output_type": "display_data"
    }
   ],
   "source": [
    "#lg_census = sns.displot(lg_census, x='Fare', y)\n",
    "Age_marriage_plot = sns.histplot(lg_census, x = 'Marital Status', y = 'Age', bins = 20)"
   ]
  },
  {
   "cell_type": "code",
   "execution_count": 182,
   "id": "019e2008",
   "metadata": {},
   "outputs": [
    {
     "data": {
      "text/plain": [
       "array(['Male', 'Female'], dtype=object)"
      ]
     },
     "execution_count": 182,
     "metadata": {},
     "output_type": "execute_result"
    }
   ],
   "source": [
    "lg_census['Gender'].replace({'m':'Male', 'M':'Male', 'male':'Male', 'f':'Female', 'F':'Female', 'female':'Female'}, inplace=True)\n",
    "lg_census['Gender'].unique()"
   ]
  },
  {
   "cell_type": "code",
   "execution_count": 183,
   "id": "b8bb5dc7",
   "metadata": {},
   "outputs": [
    {
     "data": {
      "image/png": "[encoded data removed]",
      "text/plain": [
       "<Figure size 600.25x500 with 1 Axes>"
      ]
     },
     "metadata": {},
     "output_type": "display_data"
    }
   ],
   "source": [
    "Gender_plot = sns.displot(lg_census, x = 'Gender', hue = 'Gender', bins = 20)"
   ]
  },
  {
   "cell_type": "code",
   "execution_count": 201,
   "id": "d7245c13",
   "metadata": {},
   "outputs": [
    {
     "ename": "TypeError",
     "evalue": "Horizontal orientation requires numeric `x` variable.",
     "output_type": "error",
     "traceback": [
      "\u001b[1;31m---------------------------------------------------------------------------\u001b[0m",
      "\u001b[1;31mTypeError\u001b[0m                                 Traceback (most recent call last)",
      "Input \u001b[1;32mIn [201]\u001b[0m, in \u001b[0;36m<cell line: 9>\u001b[1;34m()\u001b[0m\n\u001b[0;32m      6\u001b[0m colors \u001b[38;5;241m=\u001b[39m [plt\u001b[38;5;241m.\u001b[39mcm\u001b[38;5;241m.\u001b[39mSpectral(i \u001b[38;5;241m/\u001b[39m \u001b[38;5;28mfloat\u001b[39m(\u001b[38;5;28mlen\u001b[39m(testdata[group_col]\u001b[38;5;241m.\u001b[39munique()) \u001b[38;5;241m-\u001b[39m \u001b[38;5;241m1\u001b[39m)) \u001b[38;5;28;01mfor\u001b[39;00m i \u001b[38;5;129;01min\u001b[39;00m \u001b[38;5;28mrange\u001b[39m(\u001b[38;5;28mlen\u001b[39m(testdata[group_col]\u001b[38;5;241m.\u001b[39munique()))]\n\u001b[0;32m      9\u001b[0m \u001b[38;5;28;01mfor\u001b[39;00m c, group \u001b[38;5;129;01min\u001b[39;00m \u001b[38;5;28mzip\u001b[39m(colors, testdata[group_col]\u001b[38;5;241m.\u001b[39munique()):\n\u001b[1;32m---> 10\u001b[0m     barplot \u001b[38;5;241m=\u001b[39m \u001b[43msns\u001b[49m\u001b[38;5;241;43m.\u001b[39;49m\u001b[43mbarplot\u001b[49m\u001b[43m(\u001b[49m\u001b[43mx\u001b[49m\u001b[38;5;241;43m=\u001b[39;49m\u001b[38;5;124;43m'\u001b[39;49m\u001b[38;5;124;43mGender\u001b[39;49m\u001b[38;5;124;43m'\u001b[39;49m\u001b[43m,\u001b[49m\u001b[43m \u001b[49m\u001b[43mdata\u001b[49m\u001b[38;5;241;43m=\u001b[39;49m\u001b[43mtestdata\u001b[49m\u001b[38;5;241;43m.\u001b[39;49m\u001b[43mloc\u001b[49m\u001b[43m[\u001b[49m\u001b[43mtestdata\u001b[49m\u001b[43m[\u001b[49m\u001b[43mgroup_col\u001b[49m\u001b[43m]\u001b[49m\u001b[43m \u001b[49m\u001b[38;5;241;43m==\u001b[39;49m\u001b[43m \u001b[49m\u001b[43mgroup\u001b[49m\u001b[43m,\u001b[49m\u001b[43m \u001b[49m\u001b[43m:\u001b[49m\u001b[43m]\u001b[49m\u001b[43m,\u001b[49m\u001b[43m \u001b[49m\n\u001b[0;32m     11\u001b[0m \u001b[43m                          \u001b[49m\u001b[43mcolor\u001b[49m\u001b[38;5;241;43m=\u001b[39;49m\u001b[43mc\u001b[49m\u001b[43m,\u001b[49m\u001b[43m \u001b[49m\u001b[43mlabel\u001b[49m\u001b[38;5;241;43m=\u001b[39;49m\u001b[43mgroup\u001b[49m\u001b[43m)\u001b[49m\n\u001b[0;32m     13\u001b[0m plt\u001b[38;5;241m.\u001b[39mxlabel(\u001b[38;5;124m\"\u001b[39m\u001b[38;5;124mGender\u001b[39m\u001b[38;5;124m\"\u001b[39m)\n\u001b[0;32m     14\u001b[0m \u001b[38;5;66;03m#plt.ylabel(\"Age\")\u001b[39;00m\n",
      "File \u001b[1;32mC:\\Program Files\\Python310\\lib\\site-packages\\seaborn\\_decorators.py:46\u001b[0m, in \u001b[0;36m_deprecate_positional_args.<locals>.inner_f\u001b[1;34m(*args, **kwargs)\u001b[0m\n\u001b[0;32m     36\u001b[0m     warnings\u001b[38;5;241m.\u001b[39mwarn(\n\u001b[0;32m     37\u001b[0m         \u001b[38;5;124m\"\u001b[39m\u001b[38;5;124mPass the following variable\u001b[39m\u001b[38;5;132;01m{}\u001b[39;00m\u001b[38;5;124m as \u001b[39m\u001b[38;5;132;01m{}\u001b[39;00m\u001b[38;5;124mkeyword arg\u001b[39m\u001b[38;5;132;01m{}\u001b[39;00m\u001b[38;5;124m: \u001b[39m\u001b[38;5;132;01m{}\u001b[39;00m\u001b[38;5;124m. \u001b[39m\u001b[38;5;124m\"\u001b[39m\n\u001b[0;32m     38\u001b[0m         \u001b[38;5;124m\"\u001b[39m\u001b[38;5;124mFrom version 0.12, the only valid positional argument \u001b[39m\u001b[38;5;124m\"\u001b[39m\n\u001b[1;32m   (...)\u001b[0m\n\u001b[0;32m     43\u001b[0m         \u001b[38;5;167;01mFutureWarning\u001b[39;00m\n\u001b[0;32m     44\u001b[0m     )\n\u001b[0;32m     45\u001b[0m kwargs\u001b[38;5;241m.\u001b[39mupdate({k: arg \u001b[38;5;28;01mfor\u001b[39;00m k, arg \u001b[38;5;129;01min\u001b[39;00m \u001b[38;5;28mzip\u001b[39m(sig\u001b[38;5;241m.\u001b[39mparameters, args)})\n\u001b[1;32m---> 46\u001b[0m \u001b[38;5;28;01mreturn\u001b[39;00m f(\u001b[38;5;241m*\u001b[39m\u001b[38;5;241m*\u001b[39mkwargs)\n",
      "File \u001b[1;32mC:\\Program Files\\Python310\\lib\\site-packages\\seaborn\\categorical.py:3182\u001b[0m, in \u001b[0;36mbarplot\u001b[1;34m(x, y, hue, data, order, hue_order, estimator, ci, n_boot, units, seed, orient, color, palette, saturation, errcolor, errwidth, capsize, dodge, ax, **kwargs)\u001b[0m\n\u001b[0;32m   3169\u001b[0m \u001b[38;5;129m@_deprecate_positional_args\u001b[39m\n\u001b[0;32m   3170\u001b[0m \u001b[38;5;28;01mdef\u001b[39;00m \u001b[38;5;21mbarplot\u001b[39m(\n\u001b[0;32m   3171\u001b[0m     \u001b[38;5;241m*\u001b[39m,\n\u001b[1;32m   (...)\u001b[0m\n\u001b[0;32m   3179\u001b[0m     \u001b[38;5;241m*\u001b[39m\u001b[38;5;241m*\u001b[39mkwargs,\n\u001b[0;32m   3180\u001b[0m ):\n\u001b[1;32m-> 3182\u001b[0m     plotter \u001b[38;5;241m=\u001b[39m \u001b[43m_BarPlotter\u001b[49m\u001b[43m(\u001b[49m\u001b[43mx\u001b[49m\u001b[43m,\u001b[49m\u001b[43m \u001b[49m\u001b[43my\u001b[49m\u001b[43m,\u001b[49m\u001b[43m \u001b[49m\u001b[43mhue\u001b[49m\u001b[43m,\u001b[49m\u001b[43m \u001b[49m\u001b[43mdata\u001b[49m\u001b[43m,\u001b[49m\u001b[43m \u001b[49m\u001b[43morder\u001b[49m\u001b[43m,\u001b[49m\u001b[43m \u001b[49m\u001b[43mhue_order\u001b[49m\u001b[43m,\u001b[49m\n\u001b[0;32m   3183\u001b[0m \u001b[43m                          \u001b[49m\u001b[43mestimator\u001b[49m\u001b[43m,\u001b[49m\u001b[43m \u001b[49m\u001b[43mci\u001b[49m\u001b[43m,\u001b[49m\u001b[43m \u001b[49m\u001b[43mn_boot\u001b[49m\u001b[43m,\u001b[49m\u001b[43m \u001b[49m\u001b[43munits\u001b[49m\u001b[43m,\u001b[49m\u001b[43m \u001b[49m\u001b[43mseed\u001b[49m\u001b[43m,\u001b[49m\n\u001b[0;32m   3184\u001b[0m \u001b[43m                          \u001b[49m\u001b[43morient\u001b[49m\u001b[43m,\u001b[49m\u001b[43m \u001b[49m\u001b[43mcolor\u001b[49m\u001b[43m,\u001b[49m\u001b[43m \u001b[49m\u001b[43mpalette\u001b[49m\u001b[43m,\u001b[49m\u001b[43m \u001b[49m\u001b[43msaturation\u001b[49m\u001b[43m,\u001b[49m\n\u001b[0;32m   3185\u001b[0m \u001b[43m                          \u001b[49m\u001b[43merrcolor\u001b[49m\u001b[43m,\u001b[49m\u001b[43m \u001b[49m\u001b[43merrwidth\u001b[49m\u001b[43m,\u001b[49m\u001b[43m \u001b[49m\u001b[43mcapsize\u001b[49m\u001b[43m,\u001b[49m\u001b[43m \u001b[49m\u001b[43mdodge\u001b[49m\u001b[43m)\u001b[49m\n\u001b[0;32m   3187\u001b[0m     \u001b[38;5;28;01mif\u001b[39;00m ax \u001b[38;5;129;01mis\u001b[39;00m \u001b[38;5;28;01mNone\u001b[39;00m:\n\u001b[0;32m   3188\u001b[0m         ax \u001b[38;5;241m=\u001b[39m plt\u001b[38;5;241m.\u001b[39mgca()\n",
      "File \u001b[1;32mC:\\Program Files\\Python310\\lib\\site-packages\\seaborn\\categorical.py:1584\u001b[0m, in \u001b[0;36m_BarPlotter.__init__\u001b[1;34m(self, x, y, hue, data, order, hue_order, estimator, ci, n_boot, units, seed, orient, color, palette, saturation, errcolor, errwidth, capsize, dodge)\u001b[0m\n\u001b[0;32m   1579\u001b[0m \u001b[38;5;28;01mdef\u001b[39;00m \u001b[38;5;21m__init__\u001b[39m(\u001b[38;5;28mself\u001b[39m, x, y, hue, data, order, hue_order,\n\u001b[0;32m   1580\u001b[0m              estimator, ci, n_boot, units, seed,\n\u001b[0;32m   1581\u001b[0m              orient, color, palette, saturation, errcolor,\n\u001b[0;32m   1582\u001b[0m              errwidth, capsize, dodge):\n\u001b[0;32m   1583\u001b[0m     \u001b[38;5;124;03m\"\"\"Initialize the plotter.\"\"\"\u001b[39;00m\n\u001b[1;32m-> 1584\u001b[0m     \u001b[38;5;28;43mself\u001b[39;49m\u001b[38;5;241;43m.\u001b[39;49m\u001b[43mestablish_variables\u001b[49m\u001b[43m(\u001b[49m\u001b[43mx\u001b[49m\u001b[43m,\u001b[49m\u001b[43m \u001b[49m\u001b[43my\u001b[49m\u001b[43m,\u001b[49m\u001b[43m \u001b[49m\u001b[43mhue\u001b[49m\u001b[43m,\u001b[49m\u001b[43m \u001b[49m\u001b[43mdata\u001b[49m\u001b[43m,\u001b[49m\u001b[43m \u001b[49m\u001b[43morient\u001b[49m\u001b[43m,\u001b[49m\n\u001b[0;32m   1585\u001b[0m \u001b[43m                             \u001b[49m\u001b[43morder\u001b[49m\u001b[43m,\u001b[49m\u001b[43m \u001b[49m\u001b[43mhue_order\u001b[49m\u001b[43m,\u001b[49m\u001b[43m \u001b[49m\u001b[43munits\u001b[49m\u001b[43m)\u001b[49m\n\u001b[0;32m   1586\u001b[0m     \u001b[38;5;28mself\u001b[39m\u001b[38;5;241m.\u001b[39mestablish_colors(color, palette, saturation)\n\u001b[0;32m   1587\u001b[0m     \u001b[38;5;28mself\u001b[39m\u001b[38;5;241m.\u001b[39mestimate_statistic(estimator, ci, n_boot, seed)\n",
      "File \u001b[1;32mC:\\Program Files\\Python310\\lib\\site-packages\\seaborn\\categorical.py:156\u001b[0m, in \u001b[0;36m_CategoricalPlotter.establish_variables\u001b[1;34m(self, x, y, hue, data, orient, order, hue_order, units)\u001b[0m\n\u001b[0;32m    153\u001b[0m         \u001b[38;5;28;01mraise\u001b[39;00m \u001b[38;5;167;01mValueError\u001b[39;00m(err)\n\u001b[0;32m    155\u001b[0m \u001b[38;5;66;03m# Figure out the plotting orientation\u001b[39;00m\n\u001b[1;32m--> 156\u001b[0m orient \u001b[38;5;241m=\u001b[39m \u001b[43minfer_orient\u001b[49m\u001b[43m(\u001b[49m\n\u001b[0;32m    157\u001b[0m \u001b[43m    \u001b[49m\u001b[43mx\u001b[49m\u001b[43m,\u001b[49m\u001b[43m \u001b[49m\u001b[43my\u001b[49m\u001b[43m,\u001b[49m\u001b[43m \u001b[49m\u001b[43morient\u001b[49m\u001b[43m,\u001b[49m\u001b[43m \u001b[49m\u001b[43mrequire_numeric\u001b[49m\u001b[38;5;241;43m=\u001b[39;49m\u001b[38;5;28;43mself\u001b[39;49m\u001b[38;5;241;43m.\u001b[39;49m\u001b[43mrequire_numeric\u001b[49m\n\u001b[0;32m    158\u001b[0m \u001b[43m\u001b[49m\u001b[43m)\u001b[49m\n\u001b[0;32m    160\u001b[0m \u001b[38;5;66;03m# Option 2a:\u001b[39;00m\n\u001b[0;32m    161\u001b[0m \u001b[38;5;66;03m# We are plotting a single set of data\u001b[39;00m\n\u001b[0;32m    162\u001b[0m \u001b[38;5;66;03m# ------------------------------------\u001b[39;00m\n\u001b[0;32m    163\u001b[0m \u001b[38;5;28;01mif\u001b[39;00m x \u001b[38;5;129;01mis\u001b[39;00m \u001b[38;5;28;01mNone\u001b[39;00m \u001b[38;5;129;01mor\u001b[39;00m y \u001b[38;5;129;01mis\u001b[39;00m \u001b[38;5;28;01mNone\u001b[39;00m:\n\u001b[0;32m    164\u001b[0m \n\u001b[0;32m    165\u001b[0m     \u001b[38;5;66;03m# Determine where the data are\u001b[39;00m\n",
      "File \u001b[1;32mC:\\Program Files\\Python310\\lib\\site-packages\\seaborn\\_core.py:1328\u001b[0m, in \u001b[0;36minfer_orient\u001b[1;34m(x, y, orient, require_numeric)\u001b[0m\n\u001b[0;32m   1326\u001b[0m         warnings\u001b[38;5;241m.\u001b[39mwarn(single_var_warning\u001b[38;5;241m.\u001b[39mformat(\u001b[38;5;124m\"\u001b[39m\u001b[38;5;124mVertical\u001b[39m\u001b[38;5;124m\"\u001b[39m, \u001b[38;5;124m\"\u001b[39m\u001b[38;5;124mx\u001b[39m\u001b[38;5;124m\"\u001b[39m))\n\u001b[0;32m   1327\u001b[0m     \u001b[38;5;28;01mif\u001b[39;00m require_numeric \u001b[38;5;129;01mand\u001b[39;00m x_type \u001b[38;5;241m!=\u001b[39m \u001b[38;5;124m\"\u001b[39m\u001b[38;5;124mnumeric\u001b[39m\u001b[38;5;124m\"\u001b[39m:\n\u001b[1;32m-> 1328\u001b[0m         \u001b[38;5;28;01mraise\u001b[39;00m \u001b[38;5;167;01mTypeError\u001b[39;00m(nonnumeric_dv_error\u001b[38;5;241m.\u001b[39mformat(\u001b[38;5;124m\"\u001b[39m\u001b[38;5;124mHorizontal\u001b[39m\u001b[38;5;124m\"\u001b[39m, \u001b[38;5;124m\"\u001b[39m\u001b[38;5;124mx\u001b[39m\u001b[38;5;124m\"\u001b[39m))\n\u001b[0;32m   1329\u001b[0m     \u001b[38;5;28;01mreturn\u001b[39;00m \u001b[38;5;124m\"\u001b[39m\u001b[38;5;124mh\u001b[39m\u001b[38;5;124m\"\u001b[39m\n\u001b[0;32m   1331\u001b[0m \u001b[38;5;28;01melif\u001b[39;00m \u001b[38;5;28mstr\u001b[39m(orient)\u001b[38;5;241m.\u001b[39mstartswith(\u001b[38;5;124m\"\u001b[39m\u001b[38;5;124mv\u001b[39m\u001b[38;5;124m\"\u001b[39m):\n",
      "\u001b[1;31mTypeError\u001b[0m: Horizontal orientation requires numeric `x` variable."
     ]
    },
    {
     "data": {
      "text/plain": [
       "<Figure size 1040x800 with 0 Axes>"
      ]
     },
     "metadata": {},
     "output_type": "display_data"
    }
   ],
   "source": [
    "testdata = pd.DataFrame(lg_census['Gender'])\n",
    "\n",
    "plt.figure(figsize=(13, 10), dpi=80)\n",
    "group_col = 'Gender'\n",
    "#order_of_bars = testdata['age'].unique()[::-1]\n",
    "colors = [plt.cm.Spectral(i / float(len(testdata[group_col].unique()) - 1)) for i in range(len(testdata[group_col].unique()))]\n",
    "\n",
    "\n",
    "for c, group in zip(colors, testdata[group_col].unique()):\n",
    "    barplot = sns.barplot(x='Gender', data=testdata.loc[testdata[group_col] == group, :], \n",
    "                          color=c, label=group)\n",
    "\n",
    "plt.xlabel(\"Gender\")\n",
    "#plt.ylabel(\"Age\")\n",
    "plt.yticks(fontsize=12)\n",
    "plt.title(\"Pyramide\", fontsize=22)\n",
    "plt.legend()\n",
    "plt.show()"
   ]
  },
  {
   "cell_type": "code",
   "execution_count": 114,
   "id": "8aaacd13",
   "metadata": {},
   "outputs": [
    {
     "data": {
      "image/png": "[encoded data removed]",
      "text/plain": [
       "<Figure size 500x500 with 1 Axes>"
      ]
     },
     "metadata": {},
     "output_type": "display_data"
    }
   ],
   "source": [
    "Marital_plot = sns.displot(lg_census, x='Marital Status')\n",
    "#showing that the population has a high number of singles and married, these particular sets definitely needs accomodation."
   ]
  },
  {
   "cell_type": "code",
   "execution_count": 115,
   "id": "c5e660cd",
   "metadata": {},
   "outputs": [
    {
     "data": {
      "image/png": "[encoded data removed]",
      "text/plain": [
       "<Figure size 679.25x500 with 1 Axes>"
      ]
     },
     "metadata": {},
     "output_type": "display_data"
    }
   ],
   "source": [
    "Marital_healthy_plot1 = sns.displot(lg_census, x='Marital Status', hue = 'Infirmity', bins=10, binwidth=20)\n",
    "\n",
    "#Marital_healthy_plot1.savefig('./Marital_healthy_plot1.png')\n",
    "#this plot clearly shows that a considerable number of the population are healthy and almost 5000 in this are single,followed by about 2200 people who are married and are healthy as well. This infers that they will have a higher chance of being employed or students and will definitely need housing."
   ]
  },
  {
   "cell_type": "code",
   "execution_count": 116,
   "id": "ef08c53e",
   "metadata": {},
   "outputs": [
    {
     "data": {
      "image/png": "[encoded data removed]",
      "text/plain": [
       "<Figure size 576.5x500 with 1 Axes>"
      ]
     },
     "metadata": {},
     "output_type": "display_data"
    }
   ],
   "source": [
    "Marital_Age_plot1 = sns.displot(lg_census, x='Marital Status', hue = 'Age', bins=10, binwidth=20)"
   ]
  },
  {
   "cell_type": "code",
   "execution_count": 132,
   "id": "a515c7a3",
   "metadata": {},
   "outputs": [
    {
     "data": {
      "text/plain": [
       "array(['Married', 'Divorced', 'Single', 'Widowed'], dtype=object)"
      ]
     },
     "execution_count": 132,
     "metadata": {},
     "output_type": "execute_result"
    }
   ],
   "source": [
    "lg_census['Marital Status'].unique()"
   ]
  },
  {
   "cell_type": "code",
   "execution_count": 133,
   "id": "9db06bd5",
   "metadata": {},
   "outputs": [
    {
     "data": {
      "image/png": "[encoded data removed]",
      "text/plain": [
       "<Figure size 613.5x500 with 1 Axes>"
      ]
     },
     "metadata": {},
     "output_type": "display_data"
    }
   ],
   "source": [
    "%matplotlib inline\n",
    "\n",
    "Marital_Age_plot1 = sns.displot(lg_census, x='Age', hue = 'Marital Status', bins=20, binwidth=20)"
   ]
  },
  {
   "cell_type": "code",
   "execution_count": 118,
   "id": "8c6e0e2f",
   "metadata": {},
   "outputs": [
    {
     "data": {
      "image/png": "[encoded data removed]",
      "text/plain": [
       "<Figure size 640x480 with 1 Axes>"
      ]
     },
     "metadata": {},
     "output_type": "display_data"
    }
   ],
   "source": [
    "%matplotlib inline\n",
    "Age_plot = sns.histplot(lg_census, x='Age', bins = 20)\n",
    "#shows the age distribution in the population and its seen that ages between 16 to 65 have the highest number in that community\n",
    "#these are the most viable in any population and can grow more than they can decline"
   ]
  },
  {
   "cell_type": "code",
   "execution_count": 119,
   "id": "6e3bb2eb",
   "metadata": {},
   "outputs": [
    {
     "data": {
      "image/png": "[encoded data removed]",
      "text/plain": [
       "<Figure size 576.5x500 with 1 Axes>"
      ]
     },
     "metadata": {},
     "output_type": "display_data"
    }
   ],
   "source": [
    "%matplotlib inline\n",
    "Age_plot = sns.displot(lg_census, x='Religion', hue = 'Age', binwidth = 10)"
   ]
  },
  {
   "cell_type": "code",
   "execution_count": 120,
   "id": "74b00bce",
   "metadata": {},
   "outputs": [
    {
     "data": {
      "image/png": "[encoded data removed]",
      "text/plain": [
       "<Figure size 618.625x500 with 1 Axes>"
      ]
     },
     "metadata": {},
     "output_type": "display_data"
    }
   ],
   "source": [
    "%matplotlib inline\n",
    "Age_plot = sns.displot(lg_census, x='Age', hue = 'Religion', binwidth = 10)"
   ]
  },
  {
   "cell_type": "code",
   "execution_count": 121,
   "id": "fb1633b7",
   "metadata": {},
   "outputs": [
    {
     "data": {
      "text/plain": [
       "Employed          4375\n",
       "Student           2062\n",
       "Retired            831\n",
       "Unemployed         511\n",
       "Not Applicable     388\n",
       "Name: Occupation, dtype: int64"
      ]
     },
     "execution_count": 121,
     "metadata": {},
     "output_type": "execute_result"
    }
   ],
   "source": [
    "lg_census['Occupation'].value_counts(dropna=True)\n",
    "#Occupation comprises of several types, so we might have to group them into 4 basic classification to be able to see the distribution properly\n",
    "#classifying into students, employed,unemployed, child and retired which are the 5 major entries here"
   ]
  },
  {
   "cell_type": "code",
   "execution_count": 187,
   "id": "77db3e58",
   "metadata": {},
   "outputs": [],
   "source": [
    "#function returns the employment status of the occupation provided, classifying them accordingly\n",
    "def getEmploymentStatus(occupation):\n",
    "    #print(occupation)\n",
    "    if 'Student' in occupation:\n",
    "        return 'Student'\n",
    "    elif 'Unemployed' in occupation:\n",
    "        return 'Unemployed'\n",
    "    elif 'Child' in occupation:\n",
    "        return 'Not Applicable'\n",
    "    elif 'Retired' in occupation:\n",
    "        return 'Retired'\n",
    "    else:\n",
    "        return 'Employed'"
   ]
  },
  {
   "cell_type": "code",
   "execution_count": 188,
   "id": "73e7b0fe",
   "metadata": {},
   "outputs": [],
   "source": [
    "#replacing occupation class by applying the above function to occupation\n",
    "lg_census['Occupation'] = lg_census['Occupation'].apply(getEmploymentStatus)"
   ]
  },
  {
   "cell_type": "code",
   "execution_count": 189,
   "id": "895d84ad",
   "metadata": {},
   "outputs": [
    {
     "data": {
      "text/plain": [
       "Employed          4380\n",
       "Student           2065\n",
       "Retired            831\n",
       "Unemployed         511\n",
       "Not Applicable     388\n",
       "Name: Occupation, dtype: int64"
      ]
     },
     "execution_count": 189,
     "metadata": {},
     "output_type": "execute_result"
    }
   ],
   "source": [
    "\n",
    "lg_census['Occupation'].value_counts()"
   ]
  },
  {
   "cell_type": "code",
   "execution_count": 193,
   "id": "3c0ef25e",
   "metadata": {},
   "outputs": [
    {
     "data": {
      "text/plain": [
       "([0, 1, 2, 3, 4],\n",
       " [Text(0, 0, 'Employed'),\n",
       "  Text(1, 0, 'Retired'),\n",
       "  Text(2, 0, 'Student'),\n",
       "  Text(3, 0, 'Unemployed'),\n",
       "  Text(4, 0, 'Not Applicable')])"
      ]
     },
     "execution_count": 193,
     "metadata": {},
     "output_type": "execute_result"
    },
    {
     "data": {
      "image/png": "[encoded data removed]",
      "text/plain": [
       "<Figure size 600.25x500 with 1 Axes>"
      ]
     },
     "metadata": {},
     "output_type": "display_data"
    }
   ],
   "source": [
    "Occupation_plot = sns.displot(lg_census, x='Occupation', hue = 'Gender', binwidth = 10)\n",
    "plt.xticks(rotation=45)"
   ]
  },
  {
   "cell_type": "code",
   "execution_count": 127,
   "id": "05b46b3e",
   "metadata": {},
   "outputs": [
    {
     "data": {
      "text/html": [
       "<div>\n",
       "<style scoped>\n",
       "    .dataframe tbody tr th:only-of-type {\n",
       "        vertical-align: middle;\n",
       "    }\n",
       "\n",
       "    .dataframe tbody tr th {\n",
       "        vertical-align: top;\n",
       "    }\n",
       "\n",
       "    .dataframe thead th {\n",
       "        text-align: right;\n",
       "    }\n",
       "</style>\n",
       "<table border=\"1\" class=\"dataframe\">\n",
       "  <thead>\n",
       "    <tr style=\"text-align: right;\">\n",
       "      <th></th>\n",
       "      <th>House Number</th>\n",
       "      <th>Street</th>\n",
       "      <th>First Name</th>\n",
       "      <th>Surname</th>\n",
       "      <th>Age</th>\n",
       "      <th>Relationship to Head of House</th>\n",
       "      <th>Marital Status</th>\n",
       "      <th>Gender</th>\n",
       "      <th>Occupation</th>\n",
       "      <th>Infirmity</th>\n",
       "      <th>Religion</th>\n",
       "      <th>employment status</th>\n",
       "    </tr>\n",
       "  </thead>\n",
       "  <tbody>\n",
       "  </tbody>\n",
       "</table>\n",
       "</div>"
      ],
      "text/plain": [
       "Empty DataFrame\n",
       "Columns: [House Number, Street, First Name, Surname, Age, Relationship to Head of House, Marital Status, Gender, Occupation, Infirmity, Religion, employment status]\n",
       "Index: []"
      ]
     },
     "execution_count": 127,
     "metadata": {},
     "output_type": "execute_result"
    }
   ],
   "source": [
    "lg_census[(lg_census['Marital Status']=='Married') & (lg_census['Marital Status']=='Single')&(lg_census['Age'] > 18) & (lg_census['Age']< 65) & (lg_census['Infirmity']=='None')]"
   ]
  },
  {
   "cell_type": "code",
   "execution_count": null,
   "id": "9e22fc0a",
   "metadata": {},
   "outputs": [],
   "source": []
  },
  {
   "cell_type": "code",
   "execution_count": null,
   "id": "4663687f",
   "metadata": {},
   "outputs": [],
   "source": [
    "#(ii) Low-density housing. This should be built if the population is “affluent” and there is \n",
    "#demand for large family housing"
   ]
  }
 ],
 "metadata": {
  "kernelspec": {
   "display_name": "Python 3 (ipykernel)",
   "language": "python",
   "name": "python3"
  },
  "language_info": {
   "codemirror_mode": {
    "name": "ipython",
    "version": 3
   },
   "file_extension": ".py",
   "mimetype": "text/x-python",
   "name": "python",
   "nbconvert_exporter": "python",
   "pygments_lexer": "ipython3",
   "version": "3.10.6"
  }
 },
 "nbformat": 4,
 "nbformat_minor": 5
}
